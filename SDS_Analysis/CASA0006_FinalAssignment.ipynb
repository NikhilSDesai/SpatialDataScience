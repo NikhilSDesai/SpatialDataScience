{
 "cells": [
  {
   "cell_type": "markdown",
   "id": "30d3168f-1713-459f-8436-f7e8fe3ff0a9",
   "metadata": {
    "tags": []
   },
   "source": [
    "# Spatial Segmentation and Key Drivers of Energy Consumption in the UK\n",
    "\n",
    "*An analysis of consumer groups within the UK energy market and investigating socio-economic factors that influence the consumption patterns of different segments*"
   ]
  },
  {
   "cell_type": "code",
   "execution_count": 788,
   "id": "76c1c86b-e5eb-4d00-b299-58e5a3363d1a",
   "metadata": {
    "tags": []
   },
   "outputs": [],
   "source": [
    "# load relevant packages for analysis\n",
    "import geopandas as gpd\n",
    "import matplotlib.pyplot as plt\n",
    "import numpy as np\n",
    "import pandas as pd\n",
    "import seaborn as sns\n",
    "\n",
    "from geopy.geocoders import Nominatim\n",
    "from geopy.extra.rate_limiter import RateLimiter\n",
    "from sklearn.cluster import KMeans\n",
    "from sklearn.preprocessing import StandardScaler\n",
    "from sklearn.metrics import silhouette_score\n",
    "from sklearn.metrics import calinski_harabasz_score\n",
    "from shapely.geometry import Point"
   ]
  },
  {
   "cell_type": "markdown",
   "id": "aa2d17cb-b838-4e83-b64a-346a2d320578",
   "metadata": {},
   "source": [
    "## 1.0 Introduction\n",
    "\n",
    "The purpose of this paper is to segment UK consumers based on energy usage and investigate factors which are highly correlated to high and low energy consumption. \n",
    "\n",
    "Following economic sanctions placed on Russian oil in 2022, energy prices in Europe increased dramatically. This led to public discontent and *knee-jerk* relief payments provided by the public sector. While these payments provided short-term relief, investigating the nature of energy consumption in UK and the factors contributing to it can inform more targetted policy which could make the UK more reslient against price shocks and highlight circumstances that contribute to high and low energy consumption.\n",
    "\n",
    "This paper uses clustering to segment energy consumers at a postcode level and investigates these clusters using multivariable regression.\n",
    "\n",
    "## 2.0 Literature Review\n",
    "\n",
    "Developing targetted policy involves market segmentation, segment analysis, implementation and ongoing monitoring (Soto et al., 2021). This paper, due to its analytical nature, will investigate the first two steps.\n",
    "\n",
    "Segmentation plays a crucial role in developing targeted policies by identifying distinct groups within a population. This enables the creation of finely tuned interventions that are more likely to be effective and meet the needs of different segments (Soto et al., 2021).\n",
    "\n",
    "Clustering has emerged as a powerful tool to delineate target populations more effectively for policy implementation. Balashankar et al. (2022) illustrate how clustering methods can help segment populations and identify distinct groups crucial for developing effective and targeted policies.\n",
    "\n",
    "There are many clustering strategies. The most popular of which are Hierarchal, DBSCAN and K-means. DBSCAN and hierarchical clustering are able to effectively handle geographic data with varying shapes and reveal multi-level hierarchical relationships among data points.\n",
    "\n",
    "From here, targetted policy development investigates segments to ascertain their characteritics. Multivariable regression is frequently used to evaluate the influence of socio-economic and environmental factors on distinct population segments. This approach controls for multiple variables simultaneously, pinpointing the impacts of each factor. By applying this method, researchers can provide precise insights essential for targeted policy formulation. This tailored approach improves the effectiveness and fairness of interventions, addressing the unique needs of different consumer groups (Balashankar et al., 2022).\n",
    "\n",
    "There are three fields the ONS commonly reports alongside energy consumption. 1. **Central Heating Type**  is crucial for understanding energy consumption as it directly influences the efficiency and amount of energy required to heat homes, making it a pivotal variable for targeted energy-saving interventions. 2. **Income Level** and 3. **Dwelling Type** are similarly important; they reflect the economic capacity to invest in energy-efficient solutions and the physical characteristics of a home that affect energy needs, which can guide the formulation of policies tailored to specific economic and housing conditions.\n",
    "\n",
    "With this in mind, this paper investgates 2 research questions.\n",
    "\n",
    "            RQ1 | Can we use spatial clustering to effectively segment the UK population based on electricity and gas consumption behaviour?\n",
    "            RQ2 | How do central heating type, income level and dwelling type correlate with the energy consumption patterns of different consumer segments?\n",
    "\n",
    "## 3.0 Methodology\n",
    "\n",
    "This study will leverage open data from the *Office of National Statistics (ONS)* and energy consumption data from the *UK Department for Energy Security and Net Zero (DESNZ)*. All datasets are from the 2022. \n",
    "\n",
    "The energy consumption data provided by DESNZ is at the postcode level, while other fields are provided by Local Authority District (LAD). To overcome this issue we proceed with clustering at a postcode level, then determine which LADs these clusters geographically sit within. If clusters sit within 2 or more LADs, we simply aggregate the energy consumption data from these clusters for each LAD using a weighted average based on the number of postcodes from the cluster falling within each LAD. This method ensures that our analysis accurately reflects the geographical distribution of consumption data while aligning it with the socio-economic data at the LAD level.\n",
    "\n",
    "As outlined above, this analysis will be conducted in two parts. First, consumer segmentation will done using unsupervised clustering. This will done purely based on variables geography and electricity and gas consumption for several reasons (Rehmatulla et al., 2017). \n",
    "\n",
    "Starting with geography and energy consumption keeps the analysis clear and focused, allowing for an understanding of core consumption patterns without the distraction of socio-economic factors. Słupik et al. suggests that this method establishes baseline segments that reflect the interaction between geographic characteristics and energy usage, providing a reference for further analysis (2021). Adopting this phased approach enhances methodological rigour, enabling systematic integration of additional variables and ensuring the analysis remains robust as complexity increases.\n",
    "\n",
    "Each cluster will be categorised into 4 segments based on quartiles, 1. High, 2. Medium-High, 3. Medium-Low and 4. Low Consumption.\n",
    "\n",
    "Unsupervised clustering is selected over supervised methods because it effectively identifies natural groupings within the data without prior labeling, crucial for discovering inherent patterns in energy consumption that are not predefined. \n",
    "\n",
    "Next, we will determine what characteristics are highly correlated with *High*, *Medium-High*, *Medium-Low* and *Low* energy consumption. Since this analysis aims to inform domestic policy, we select variables that are commonly assciated with previous domestic energy relief, these are income, central heating type and dwelling type. This correlation analysis will be based heavily on multiple linear regression. Given the goal of informing targeted domestic energy policies, multiple linear regression allows for the simultaneous examination of how various predictors influence energy consumption across different segments(Forootan et al., 2022). \n",
    "\n",
    "This method not only quantifies the strength of these relationships but also adjusts for the interdependencies among variables, providing a comprehensive and statistically robust basis for policy recommendations (Dou et al., 2023).\n",
    "\n",
    "## 4.0 Data Overview, Processing & Exploration\n",
    "\n",
    "This section reads in and processes the data for RQ1 and RQ2. Before moving into our analysis we provide an overview of the fields, explore the shape and distribution of our data and check for outliers and incosistencies which could lead to issues in this study. This will all be conducted in the following section after the cleaning phase of each dataset. \n",
    "\n",
    "The energy consumption from the DESNZ is provided at outcode level without geometry. The geopy library automatically finds and builds a geometry column based on outcode. DESNEZ provide mean, median and total electricity and gas consumption data by Kilowatt-hour (kWh). Below we drop both the *Mean* and *Total* consumption column and use *Median* annual electrity and gas consumption as it is least impacted by outliers. For this reason we do not normlise by population.\n",
    "\n",
    "The [geopy](https://geopy.readthedocs.io/en/stable/) library can only assign one postcode per second and is computationally intensive. As a result, we only run this on the gas consumption data and join electricity data later.\n",
    "\n",
    "As highlighted, the following is a computational intense process and was run when this analysis was originally conducted. The new CSV file is read in below the following four code chunks."
   ]
  },
  {
   "cell_type": "markdown",
   "id": "89070a08-fb39-4281-b4fc-2befc66ea6de",
   "metadata": {},
   "source": [
    "### 4.1 Read in Energy Consumption Data, Process and add Geometry"
   ]
  },
  {
   "cell_type": "code",
   "execution_count": 723,
   "id": "a23698d5-43f8-44fa-943a-8304d936630e",
   "metadata": {
    "tags": []
   },
   "outputs": [],
   "source": [
    "# read in desnez data\n",
    "gas_df = pd.read_csv('data/gas_consumption.csv')\n",
    "elec_df = pd.read_csv('data/electricity_consumption.csv')\n",
    "outpop_df = pd.read_csv('data/outcode_population.csv') # pop. by outcode to normalise"
   ]
  },
  {
   "cell_type": "code",
   "execution_count": 725,
   "id": "afb22bfb-ab33-442a-a612-71f48db78bbc",
   "metadata": {
    "tags": []
   },
   "outputs": [],
   "source": [
    "# init geolocator\n",
    "geolocator = Nominatim(user_agent=\"geoapiExercises\")\n",
    "\n",
    "# function to get lat / long\n",
    "def get_lat_lon(outcode):\n",
    "    try:\n",
    "        location = geolocator.geocode(f\"{outcode}, United Kingdom\")\n",
    "        return (location.latitude, location.longitude)\n",
    "    except:\n",
    "        return (None, None)\n",
    "\n",
    "# avoid hitting rate limits\n",
    "geocode = RateLimiter(geolocator.geocode, min_delay_seconds=1)\n",
    "\n",
    "# apply to outcode column\n",
    "gas_df['Latitude_Longitude'] = gas_df['outcode'].apply(lambda x: get_lat_lon(x))\n",
    "\n",
    "gas_df.to_csv('data/gas_df.csv', index=False)"
   ]
  },
  {
   "cell_type": "code",
   "execution_count": 742,
   "id": "5fb1121a-8440-4338-8e6d-54d2c6313b5e",
   "metadata": {
    "tags": []
   },
   "outputs": [],
   "source": [
    "gas_df = pd.read_csv('data/gas_df.csv')"
   ]
  },
  {
   "cell_type": "code",
   "execution_count": 744,
   "id": "406757c8-0de0-49b2-bef7-b46a4873e69b",
   "metadata": {
    "tags": []
   },
   "outputs": [
    {
     "name": "stdout",
     "output_type": "stream",
     "text": [
      "<class 'pandas.core.frame.DataFrame'>\n",
      "RangeIndex: 2410 entries, 0 to 2409\n",
      "Data columns (total 5 columns):\n",
      " #   Column               Non-Null Count  Dtype  \n",
      "---  ------               --------------  -----  \n",
      " 0   outcode              2410 non-null   object \n",
      " 1   gas_total_cons_kwh   2410 non-null   float64\n",
      " 2   gas_mean_cons_kwh    2410 non-null   float64\n",
      " 3   gas_median_cons_kwh  2410 non-null   float64\n",
      " 4   Latitude_Longitude   2410 non-null   object \n",
      "dtypes: float64(3), object(2)\n",
      "memory usage: 94.3+ KB\n"
     ]
    }
   ],
   "source": [
    "gas_df.info()"
   ]
  },
  {
   "cell_type": "code",
   "execution_count": 746,
   "id": "f857928c-4365-46fe-a0bf-c2f817f02033",
   "metadata": {
    "tags": []
   },
   "outputs": [],
   "source": [
    "# convert string coordinates to a point object\n",
    "def parse_coordinates(coord_str):\n",
    "    if coord_str == \"None, None\":\n",
    "        return None\n",
    "    try:\n",
    "        lat, lon = coord_str.strip('()').split(',')\n",
    "        return Point(float(lon.strip()), float(lat.strip()))\n",
    "    except (ValueError, TypeError):\n",
    "        return None\n",
    "\n",
    "# Apply to 'Latitude_Longitude'\n",
    "gas_df['geometry'] = gas_df['Latitude_Longitude'].apply(parse_coordinates)\n",
    "\n",
    "# Remove 'None' rows\n",
    "gas_df = gas_df[gas_df['geometry'].notna()]\n",
    "\n",
    "# DataFrame to GeoDataFrame\n",
    "gas_gdf = gpd.GeoDataFrame(gas_df, geometry='geometry')\n",
    "\n",
    "# Set WGS 84 CRS\n",
    "gas_gdf.set_crs(epsg=4326, inplace=True)\n",
    "\n",
    "# Join electricity consumption data by outcode\n",
    "energycon_gdf = pd.merge(gas_gdf, elec_df, on='outcode', how='inner')\n",
    "\n",
    "# Drop total & mean consumption columns\n",
    "columns_to_drop = ['gas_total_cons_kwh', 'gas_mean_cons_kwh', 'elec_total_cons_kwh', 'elec_mean_cons_kwh', 'Latitude_Longitude']\n",
    "energycon_gdf = energycon_gdf.drop(columns=columns_to_drop)"
   ]
  },
  {
   "cell_type": "code",
   "execution_count": 748,
   "id": "891ee4fd-dd37-469b-b214-68650df0f327",
   "metadata": {
    "tags": []
   },
   "outputs": [],
   "source": [
    "# normalise our energy consumption data by outcode population \n",
    "# perform inner join\n",
    "energycon_gdf = pd.merge(\n",
    "    energycon_gdf,\n",
    "    outpop_df[['Postcode Districts', 'Count']],\n",
    "    left_on='outcode',\n",
    "    right_on='Postcode Districts',\n",
    "    how='inner'\n",
    ")\n",
    "\n",
    "# normalise x population count\n",
    "energycon_gdf['n_gas_median_cons_kwh'] = energycon_gdf['gas_median_cons_kwh'] / energycon_gdf['Count']\n",
    "energycon_gdf['n_elec_median_cons_kwh'] = energycon_gdf['elec_median_cons_kwh'] / energycon_gdf['Count']\n",
    "\n",
    "# drop 'Postcode Districts'\n",
    "energycon_gdf.drop(columns=['Postcode Districts'], inplace=True)\n",
    "\n",
    "# calc mean and standard deviation\n",
    "mean_values = energycon_gdf[['n_gas_median_cons_kwh', 'n_elec_median_cons_kwh']].mean()\n",
    "std_dev = energycon_gdf[['n_gas_median_cons_kwh', 'n_elec_median_cons_kwh']].std()\n",
    "\n",
    "# detect and remove outliers more than 2 StD. from the mean\n",
    "is_outlier = ((energycon_gdf[['n_gas_median_cons_kwh', 'n_elec_median_cons_kwh']] < (mean_values - 2 * std_dev)) |\n",
    "              (energycon_gdf[['n_gas_median_cons_kwh', 'n_elec_median_cons_kwh']] > (mean_values + 2 * std_dev))).any(axis=1)\n",
    "energycon_gdf = energycon_gdf[~is_outlier]\n",
    "\n",
    "# save\n",
    "energycon_gdf.to_file('energycon.gpkg', driver='GPKG')"
   ]
  },
  {
   "cell_type": "code",
   "execution_count": 750,
   "id": "b76c575c-5933-4b82-89eb-0357ba6c8143",
   "metadata": {
    "tags": []
   },
   "outputs": [
    {
     "name": "stdout",
     "output_type": "stream",
     "text": [
      "<class 'geopandas.geodataframe.GeoDataFrame'>\n",
      "RangeIndex: 1429 entries, 0 to 1428\n",
      "Data columns (total 7 columns):\n",
      " #   Column                  Non-Null Count  Dtype   \n",
      "---  ------                  --------------  -----   \n",
      " 0   outcode                 1429 non-null   object  \n",
      " 1   gas_median_cons_kwh     1429 non-null   float64 \n",
      " 2   elec_median_cons_kwh    1429 non-null   float64 \n",
      " 3   Count                   1429 non-null   int64   \n",
      " 4   n_gas_median_cons_kwh   1429 non-null   float64 \n",
      " 5   n_elec_median_cons_kwh  1429 non-null   float64 \n",
      " 6   geometry                1429 non-null   geometry\n",
      "dtypes: float64(4), geometry(1), int64(1), object(1)\n",
      "memory usage: 78.3+ KB\n"
     ]
    }
   ],
   "source": [
    "# read in processed 'energy consumption data' & check\n",
    "energycon_gdf = gpd.read_file('energycon.gpkg')\n",
    "energycon_gdf.info()"
   ]
  },
  {
   "cell_type": "code",
   "execution_count": 752,
   "id": "5cfcdf91-7e86-4999-9691-3dbc935128eb",
   "metadata": {
    "tags": []
   },
   "outputs": [
    {
     "name": "stdout",
     "output_type": "stream",
     "text": [
      "Descriptive Statistics:\n",
      "        gas_median_cons_kwh  elec_median_cons_kwh          Count  \\\n",
      "count          1429.000000           1429.000000    1429.000000   \n",
      "mean          10095.291839           2611.974050   27664.167950   \n",
      "std            1998.934236            352.451779   17787.980163   \n",
      "min            3728.318537           1577.100000      55.000000   \n",
      "25%            8926.833145           2392.400000   14852.000000   \n",
      "50%            9815.550000           2542.000000   25310.000000   \n",
      "75%           10889.086886           2772.200000   36906.000000   \n",
      "max           28575.457630           5444.500000  170304.000000   \n",
      "\n",
      "       n_gas_median_cons_kwh  n_elec_median_cons_kwh  \n",
      "count            1429.000000             1429.000000  \n",
      "mean                1.340411                0.339435  \n",
      "std                 8.360627                2.049145  \n",
      "min                 0.059852                0.014346  \n",
      "25%                 0.256299                0.066603  \n",
      "50%                 0.386284                0.100337  \n",
      "75%                 0.691026                0.184862  \n",
      "max               193.217824               50.412037  \n",
      "\n",
      "Count of Non-Null Entries:\n",
      " outcode                   1429\n",
      "gas_median_cons_kwh       1429\n",
      "elec_median_cons_kwh      1429\n",
      "Count                     1429\n",
      "n_gas_median_cons_kwh     1429\n",
      "n_elec_median_cons_kwh    1429\n",
      "geometry                  1429\n",
      "dtype: int64\n",
      "\n",
      "Data Types:\n",
      " outcode                     object\n",
      "gas_median_cons_kwh        float64\n",
      "elec_median_cons_kwh       float64\n",
      "Count                        int64\n",
      "n_gas_median_cons_kwh      float64\n",
      "n_elec_median_cons_kwh     float64\n",
      "geometry                  geometry\n",
      "dtype: object\n",
      "\n",
      "Quantiles:\n",
      "       gas_median_cons_kwh  elec_median_cons_kwh    Count  \\\n",
      "0.25          8926.833145                2392.4  14852.0   \n",
      "0.50          9815.550000                2542.0  25310.0   \n",
      "0.75         10889.086886                2772.2  36906.0   \n",
      "\n",
      "      n_gas_median_cons_kwh  n_elec_median_cons_kwh  \n",
      "0.25               0.256299                0.066603  \n",
      "0.50               0.386284                0.100337  \n",
      "0.75               0.691026                0.184862  \n",
      "\n",
      "Correlation Matrix:\n",
      "                         gas_median_cons_kwh  elec_median_cons_kwh     Count  \\\n",
      "gas_median_cons_kwh                1.000000              0.462543 -0.099420   \n",
      "elec_median_cons_kwh               0.462543              1.000000 -0.293575   \n",
      "Count                             -0.099420             -0.293575  1.000000   \n",
      "n_gas_median_cons_kwh              0.231040              0.209652 -0.181584   \n",
      "n_elec_median_cons_kwh             0.169004              0.244621 -0.186089   \n",
      "\n",
      "                        n_gas_median_cons_kwh  n_elec_median_cons_kwh  \n",
      "gas_median_cons_kwh                  0.231040                0.169004  \n",
      "elec_median_cons_kwh                 0.209652                0.244621  \n",
      "Count                               -0.181584               -0.186089  \n",
      "n_gas_median_cons_kwh                1.000000                0.977005  \n",
      "n_elec_median_cons_kwh               0.977005                1.000000  \n"
     ]
    }
   ],
   "source": [
    "numeric_cols = energycon_gdf.select_dtypes(include=[np.number])\n",
    "\n",
    "# descriptive stats\n",
    "basic_stats = numeric_cols.describe()\n",
    "\n",
    "# count of non-null entries\n",
    "nonnull_counts = energycon_gdf.count()\n",
    "\n",
    "# data types\n",
    "data_types = energycon_gdf.dtypes\n",
    "\n",
    "# quantiles\n",
    "quantiles = numeric_cols.quantile([0.25, 0.5, 0.75])\n",
    "\n",
    "# correlation matrix\n",
    "correlation_matrix = numeric_cols.corr()\n",
    "\n",
    "# display\n",
    "print(\"Descriptive Statistics:\\n\", basic_stats)\n",
    "print(\"\\nCount of Non-Null Entries:\\n\", nonnull_counts)\n",
    "print(\"\\nData Types:\\n\", data_types)\n",
    "print(\"\\nQuantiles:\\n\", quantiles)\n",
    "print(\"\\nCorrelation Matrix:\\n\", correlation_matrix)"
   ]
  },
  {
   "cell_type": "markdown",
   "id": "d2b1e6f8-739d-4d88-a762-95fb48739fea",
   "metadata": {},
   "source": [
    "#### Given the following summary statistics we can infer the following conclusions about our data:\n",
    "- **Consumption Variability:** The dataset from 1,429 outcodes shows a median gas consumption range of 3,728 to 28,575 kWh, with electricity consumption being less variable, ranging from 1,577 to 5,444 kWh. Median gas consumption typically around 9,815 kWh reflects substantial regional differences.\n",
    "- **Correlation and Efficiency:** There's a moderate correlation (about 0.46) between gas and electricity consumption, suggesting that higher gas usage often aligns with higher electricity usage. Normalised consumption values reveal efficiencies of about 1.34 kWh for gas and 0.34 kWh for electricity per unit count, with some regions showing exceptionally high usage.\n",
    "- **Statistical Overview:** The dataset exhibits a broad count range from 55 to 170,304, suggesting diverse outcode sizes. All key columns are fully populated, ensuring comprehensive data analysis. The strong correlation (0.977) between normalised gas and electricity values underscores consistent regional energy usage patterns.\n",
    "\n",
    "Below, we read and process the socio-economic data for the clustering and segmentation analysis. There are five fields taken from four datasets recorded by LAD. The population, dwelling type, central heating type and income data all comes from the ONS. This data is merged with LAD polygon data, also provided by the ONS. \n",
    "\n",
    "The socio-economic data is provided as raw counts, thus, we conduct per capita normalisation to ensure our analysis is accurate. During the normalisation process we deal with NaN and 0 values."
   ]
  },
  {
   "cell_type": "markdown",
   "id": "24adb6a0-e8e7-4765-bced-6721c51952f8",
   "metadata": {},
   "source": [
    "### 4.2 Read in Socio-Economic Data, Process and add Geometry column"
   ]
  },
  {
   "cell_type": "code",
   "execution_count": 79,
   "id": "da5d4545-8abc-4f2b-9cd5-937f81cf9d7a",
   "metadata": {
    "tags": []
   },
   "outputs": [],
   "source": [
    "# read in ONS socioeconomic & LAD geometry data\n",
    "income = pd.read_csv('data/annual_income.csv') # annual income\n",
    "heat_type = pd.read_csv('data/heating_type.csv') # central heating type\n",
    "dw_type = pd.read_csv('data/accomodation_type.csv') # dwelling type\n",
    "lad = gpd.read_file(\"data/Local_Authority_Districts/LAD_MAY_2022_UK_BFE_V3.shp\") # lad polygon data\n",
    "pop = pd.read_excel(\"data/population.xlsx\") # pop"
   ]
  },
  {
   "cell_type": "code",
   "execution_count": 80,
   "id": "deb1b514-a829-4299-8120-76fe180ce6f9",
   "metadata": {
    "tags": []
   },
   "outputs": [
    {
     "data": {
      "text/html": [
       "<div>\n",
       "<style scoped>\n",
       "    .dataframe tbody tr th:only-of-type {\n",
       "        vertical-align: middle;\n",
       "    }\n",
       "\n",
       "    .dataframe tbody tr th {\n",
       "        vertical-align: top;\n",
       "    }\n",
       "\n",
       "    .dataframe thead th {\n",
       "        text-align: right;\n",
       "    }\n",
       "</style>\n",
       "<table border=\"1\" class=\"dataframe\">\n",
       "  <thead>\n",
       "    <tr style=\"text-align: right;\">\n",
       "      <th></th>\n",
       "      <th>Lower tier local authorities Code</th>\n",
       "      <th>Med average annual income (£)</th>\n",
       "    </tr>\n",
       "  </thead>\n",
       "  <tbody>\n",
       "    <tr>\n",
       "      <th>0</th>\n",
       "      <td>E06000001</td>\n",
       "      <td>31050.0</td>\n",
       "    </tr>\n",
       "    <tr>\n",
       "      <th>1</th>\n",
       "      <td>E06000002</td>\n",
       "      <td>35500.0</td>\n",
       "    </tr>\n",
       "  </tbody>\n",
       "</table>\n",
       "</div>"
      ],
      "text/plain": [
       "  Lower tier local authorities Code  Med average annual income (£)\n",
       "0                         E06000001                        31050.0\n",
       "1                         E06000002                        35500.0"
      ]
     },
     "execution_count": 80,
     "metadata": {},
     "output_type": "execute_result"
    }
   ],
   "source": [
    "# process and clean income data\n",
    "median_income = income.groupby('Local authority code')['Total annual income (£)'].median().reset_index()\n",
    "\n",
    "# rename 'med average annual income' & print\n",
    "median_income.rename(columns={'Total annual income (£)': 'Med average annual income (£)'}, inplace=True)\n",
    "median_income.rename(columns={'Local authority code': 'Lower tier local authorities Code'}, inplace=True)\n",
    "median_income.head(2)"
   ]
  },
  {
   "cell_type": "code",
   "execution_count": 83,
   "id": "9b0e50f9-2c62-4e4d-b82c-8a59cb17ccad",
   "metadata": {
    "tags": []
   },
   "outputs": [],
   "source": [
    "# process heating & dwelling type data\n",
    "# pivot heating type\n",
    "heatpivot_df = heat_type.pivot(\n",
    "    index='Lower tier local authorities Code',\n",
    "    columns='Type of central heating in household (5 categories)',\n",
    "    values='Observation'\n",
    ")\n",
    "\n",
    "# 'LAD Code' as index\n",
    "heatpivot_df.reset_index(inplace=True)\n",
    "\n",
    "# pivot 'dw type'\n",
    "dwpivot_df = dw_type.pivot(index='Lower tier local authorities Code', \n",
    "                         columns='Accommodation type (5 categories)', \n",
    "                         values='Observation')\n",
    "\n",
    "# 'LAD Code' as index\n",
    "dwpivot_df.reset_index(inplace=True)"
   ]
  },
  {
   "cell_type": "code",
   "execution_count": 84,
   "id": "7b72265b-96c1-4b3c-8276-adb956e1f5ac",
   "metadata": {
    "tags": []
   },
   "outputs": [
    {
     "data": {
      "text/html": [
       "<div>\n",
       "<style scoped>\n",
       "    .dataframe tbody tr th:only-of-type {\n",
       "        vertical-align: middle;\n",
       "    }\n",
       "\n",
       "    .dataframe tbody tr th {\n",
       "        vertical-align: top;\n",
       "    }\n",
       "\n",
       "    .dataframe thead th {\n",
       "        text-align: right;\n",
       "    }\n",
       "</style>\n",
       "<table border=\"1\" class=\"dataframe\">\n",
       "  <thead>\n",
       "    <tr style=\"text-align: right;\">\n",
       "      <th></th>\n",
       "      <th>Lower tier local authorities Code</th>\n",
       "      <th>A caravan or other mobile or temporary structure</th>\n",
       "      <th>Flat, maisonette or apartment</th>\n",
       "      <th>Whole house or bungalow: Detached</th>\n",
       "      <th>Whole house or bungalow: Semi-detached</th>\n",
       "      <th>Whole house or bungalow: Terraced</th>\n",
       "      <th>Does not apply</th>\n",
       "      <th>Does not have central heating</th>\n",
       "      <th>Has one type of central heating</th>\n",
       "      <th>Two or more types of central heating (including renewable energy)</th>\n",
       "      <th>Two or more types of central heating (not including renewable energy)</th>\n",
       "      <th>Med average annual income (£)</th>\n",
       "    </tr>\n",
       "  </thead>\n",
       "  <tbody>\n",
       "    <tr>\n",
       "      <th>0</th>\n",
       "      <td>E06000001</td>\n",
       "      <td>115.0</td>\n",
       "      <td>4725.0</td>\n",
       "      <td>8086.0</td>\n",
       "      <td>14537.0</td>\n",
       "      <td>13469.0</td>\n",
       "      <td>0.0</td>\n",
       "      <td>342.0</td>\n",
       "      <td>36686.0</td>\n",
       "      <td>180.0</td>\n",
       "      <td>3722.0</td>\n",
       "      <td>31050.0</td>\n",
       "    </tr>\n",
       "    <tr>\n",
       "      <th>1</th>\n",
       "      <td>E06000002</td>\n",
       "      <td>51.0</td>\n",
       "      <td>7569.0</td>\n",
       "      <td>10389.0</td>\n",
       "      <td>25485.0</td>\n",
       "      <td>16768.0</td>\n",
       "      <td>0.0</td>\n",
       "      <td>752.0</td>\n",
       "      <td>53648.0</td>\n",
       "      <td>178.0</td>\n",
       "      <td>5684.0</td>\n",
       "      <td>35500.0</td>\n",
       "    </tr>\n",
       "  </tbody>\n",
       "</table>\n",
       "</div>"
      ],
      "text/plain": [
       "  Lower tier local authorities Code  \\\n",
       "0                         E06000001   \n",
       "1                         E06000002   \n",
       "\n",
       "   A caravan or other mobile or temporary structure  \\\n",
       "0                                             115.0   \n",
       "1                                              51.0   \n",
       "\n",
       "   Flat, maisonette or apartment  Whole house or bungalow: Detached  \\\n",
       "0                         4725.0                             8086.0   \n",
       "1                         7569.0                            10389.0   \n",
       "\n",
       "   Whole house or bungalow: Semi-detached  Whole house or bungalow: Terraced  \\\n",
       "0                                 14537.0                            13469.0   \n",
       "1                                 25485.0                            16768.0   \n",
       "\n",
       "   Does not apply  Does not have central heating  \\\n",
       "0             0.0                          342.0   \n",
       "1             0.0                          752.0   \n",
       "\n",
       "   Has one type of central heating  \\\n",
       "0                          36686.0   \n",
       "1                          53648.0   \n",
       "\n",
       "   Two or more types of central heating (including renewable energy)  \\\n",
       "0                                              180.0                   \n",
       "1                                              178.0                   \n",
       "\n",
       "   Two or more types of central heating (not including renewable energy)  \\\n",
       "0                                             3722.0                       \n",
       "1                                             5684.0                       \n",
       "\n",
       "   Med average annual income (£)  \n",
       "0                        31050.0  \n",
       "1                        35500.0  "
      ]
     },
     "execution_count": 84,
     "metadata": {},
     "output_type": "execute_result"
    }
   ],
   "source": [
    "# merge 'dwpivot_df' and 'heatpivot_df' on 'Lower tier local authorities Code'\n",
    "merged_df = pd.merge(dwpivot_df, heatpivot_df, on='Lower tier local authorities Code', how='outer')\n",
    "\n",
    "# merge with 'income' on 'Lower tier local authorities Code'\n",
    "socec_df = pd.merge(merged_df, median_income, on='Lower tier local authorities Code', how='outer')\n",
    "\n",
    "# display\n",
    "socec_df.head(2)"
   ]
  },
  {
   "cell_type": "code",
   "execution_count": 85,
   "id": "b5ba8be7-82c1-4d44-a692-e7eb2efc3d81",
   "metadata": {
    "tags": []
   },
   "outputs": [],
   "source": [
    "# merge 'LAD' and 'socec_df' geographic data\n",
    "lad_filtered = lad[['LAD22CD', 'geometry']]\n",
    "\n",
    "# keep all 'socec_df' columns and only 'geometry' from 'lad'\n",
    "socec_df = pd.merge(socec_df, lad_filtered, how='left', left_on='Lower tier local authorities Code', right_on='LAD22CD')\n",
    "\n",
    "# drop 'LAD22CD' & display\n",
    "socec_df.drop(columns=['LAD22CD'], inplace=True)"
   ]
  },
  {
   "cell_type": "code",
   "execution_count": 86,
   "id": "f7dbb0f5-f667-43e1-909c-29113c5fb92f",
   "metadata": {
    "tags": []
   },
   "outputs": [
    {
     "data": {
      "text/html": [
       "<div>\n",
       "<style scoped>\n",
       "    .dataframe tbody tr th:only-of-type {\n",
       "        vertical-align: middle;\n",
       "    }\n",
       "\n",
       "    .dataframe tbody tr th {\n",
       "        vertical-align: top;\n",
       "    }\n",
       "\n",
       "    .dataframe thead th {\n",
       "        text-align: right;\n",
       "    }\n",
       "</style>\n",
       "<table border=\"1\" class=\"dataframe\">\n",
       "  <thead>\n",
       "    <tr style=\"text-align: right;\">\n",
       "      <th></th>\n",
       "      <th>LAD</th>\n",
       "      <th>dwelling_type: mobile</th>\n",
       "      <th>dwelling_type: flat</th>\n",
       "      <th>dwelling_type: detached house</th>\n",
       "      <th>dwelling_type: semi-detached</th>\n",
       "      <th>dwelling_type: terraced</th>\n",
       "      <th>no central heating</th>\n",
       "      <th>1 central heating</th>\n",
       "      <th>2+ central heating (renewable)</th>\n",
       "      <th>2+ central heating (non-renewable)</th>\n",
       "      <th>mean annual income</th>\n",
       "      <th>geometry</th>\n",
       "    </tr>\n",
       "  </thead>\n",
       "  <tbody>\n",
       "    <tr>\n",
       "      <th>0</th>\n",
       "      <td>E06000001</td>\n",
       "      <td>115.0</td>\n",
       "      <td>4725.0</td>\n",
       "      <td>8086.0</td>\n",
       "      <td>14537.0</td>\n",
       "      <td>13469.0</td>\n",
       "      <td>342.0</td>\n",
       "      <td>36686.0</td>\n",
       "      <td>180.0</td>\n",
       "      <td>3722.0</td>\n",
       "      <td>31050.0</td>\n",
       "      <td>POLYGON ((447213.900 537036.104, 447228.798 53...</td>\n",
       "    </tr>\n",
       "    <tr>\n",
       "      <th>1</th>\n",
       "      <td>E06000002</td>\n",
       "      <td>51.0</td>\n",
       "      <td>7569.0</td>\n",
       "      <td>10389.0</td>\n",
       "      <td>25485.0</td>\n",
       "      <td>16768.0</td>\n",
       "      <td>752.0</td>\n",
       "      <td>53648.0</td>\n",
       "      <td>178.0</td>\n",
       "      <td>5684.0</td>\n",
       "      <td>35500.0</td>\n",
       "      <td>POLYGON ((448489.897 522071.798, 448592.597 52...</td>\n",
       "    </tr>\n",
       "  </tbody>\n",
       "</table>\n",
       "</div>"
      ],
      "text/plain": [
       "         LAD  dwelling_type: mobile  dwelling_type: flat  \\\n",
       "0  E06000001                  115.0               4725.0   \n",
       "1  E06000002                   51.0               7569.0   \n",
       "\n",
       "   dwelling_type: detached house  dwelling_type: semi-detached  \\\n",
       "0                         8086.0                       14537.0   \n",
       "1                        10389.0                       25485.0   \n",
       "\n",
       "   dwelling_type: terraced  no central heating  1 central heating  \\\n",
       "0                  13469.0               342.0            36686.0   \n",
       "1                  16768.0               752.0            53648.0   \n",
       "\n",
       "   2+ central heating (renewable)  2+ central heating (non-renewable)  \\\n",
       "0                           180.0                              3722.0   \n",
       "1                           178.0                              5684.0   \n",
       "\n",
       "   mean annual income                                           geometry  \n",
       "0             31050.0  POLYGON ((447213.900 537036.104, 447228.798 53...  \n",
       "1             35500.0  POLYGON ((448489.897 522071.798, 448592.597 52...  "
      ]
     },
     "execution_count": 86,
     "metadata": {},
     "output_type": "execute_result"
    }
   ],
   "source": [
    "# final cleaning\n",
    "# drop\n",
    "socec_df.drop(columns=['Does not apply'], inplace=True)\n",
    "\n",
    "# rename index as 'LAD'\n",
    "socec_df.rename(columns={'Lower tier local authorities Code': 'LAD'}, inplace=True)\n",
    "\n",
    "# geometry as last column\n",
    "geometry = socec_df.pop('geometry')\n",
    "socec_df['geometry'] = geometry\n",
    "\n",
    "# rename\n",
    "column_rename_map = {\n",
    "    'A caravan or other mobile or temporary structure': 'dwelling_type: mobile',\n",
    "    'Flat, maisonette or apartment': 'dwelling_type: flat',\n",
    "    'Whole house or bungalow: Detached': 'dwelling_type: detached house',\n",
    "    'Whole house or bungalow: Semi-detached': 'dwelling_type: semi-detached',\n",
    "    'Whole house or bungalow: Terraced': 'dwelling_type: terraced',\n",
    "    'Does not have central heating': 'no central heating',\n",
    "    'Has one type of central heating': '1 central heating',\n",
    "    'Two or more types of central heating (including renewable energy)': '2+ central heating (renewable)',\n",
    "    'Two or more types of central heating (not including renewable energy)': '2+ central heating (non-renewable)',\n",
    "    'Med average annual income (£)': 'mean annual income'\n",
    "}\n",
    "socec_df.rename(columns=column_rename_map, inplace=True)\n",
    "\n",
    "# print\n",
    "socec_df.head(2)"
   ]
  },
  {
   "cell_type": "code",
   "execution_count": 87,
   "id": "0aacc6bc-8774-40ce-a5de-403c7772b6c6",
   "metadata": {
    "tags": []
   },
   "outputs": [],
   "source": [
    "# normalise these values by the population of each LAD \n",
    "# start by adding population to df:\n",
    "# left join data using 'socec_df' as master\n",
    "pop_filtered = pop[['Code', 'All ages']]\n",
    "socec_df = pd.merge(socec_df, pop_filtered, how='left', left_on='LAD', right_on='Code')\n",
    "\n",
    "# rename 'All ages' column to 'population' and drop redundant 'Code' column\n",
    "socec_df.rename(columns={'All ages': 'population'}, inplace=True)\n",
    "socec_df.drop(columns=['Code'], inplace=True)"
   ]
  },
  {
   "cell_type": "code",
   "execution_count": 88,
   "id": "39cda889-8773-4984-86a0-af070b31ea68",
   "metadata": {
    "tags": []
   },
   "outputs": [
    {
     "data": {
      "text/html": [
       "<div>\n",
       "<style scoped>\n",
       "    .dataframe tbody tr th:only-of-type {\n",
       "        vertical-align: middle;\n",
       "    }\n",
       "\n",
       "    .dataframe tbody tr th {\n",
       "        vertical-align: top;\n",
       "    }\n",
       "\n",
       "    .dataframe thead th {\n",
       "        text-align: right;\n",
       "    }\n",
       "</style>\n",
       "<table border=\"1\" class=\"dataframe\">\n",
       "  <thead>\n",
       "    <tr style=\"text-align: right;\">\n",
       "      <th></th>\n",
       "      <th>LAD</th>\n",
       "      <th>geometry</th>\n",
       "      <th>mean annual income</th>\n",
       "      <th>dwelling_type: mobile</th>\n",
       "      <th>dwelling_type: flat</th>\n",
       "      <th>dwelling_type: detached house</th>\n",
       "      <th>dwelling_type: semi-detached</th>\n",
       "      <th>dwelling_type: terraced</th>\n",
       "      <th>no central heating</th>\n",
       "      <th>1 central heating</th>\n",
       "      <th>2+ central heating (renewable)</th>\n",
       "      <th>2+ central heating (non-renewable)</th>\n",
       "    </tr>\n",
       "  </thead>\n",
       "  <tbody>\n",
       "    <tr>\n",
       "      <th>0</th>\n",
       "      <td>E06000001</td>\n",
       "      <td>POLYGON ((447213.900 537036.104, 447228.798 53...</td>\n",
       "      <td>31050.0</td>\n",
       "      <td>0.001225</td>\n",
       "      <td>0.050340</td>\n",
       "      <td>0.086149</td>\n",
       "      <td>0.154878</td>\n",
       "      <td>0.143499</td>\n",
       "      <td>0.003644</td>\n",
       "      <td>0.390855</td>\n",
       "      <td>0.001918</td>\n",
       "      <td>0.039654</td>\n",
       "    </tr>\n",
       "    <tr>\n",
       "      <th>1</th>\n",
       "      <td>E06000002</td>\n",
       "      <td>POLYGON ((448489.897 522071.798, 448592.597 52...</td>\n",
       "      <td>35500.0</td>\n",
       "      <td>0.000344</td>\n",
       "      <td>0.051044</td>\n",
       "      <td>0.070061</td>\n",
       "      <td>0.171865</td>\n",
       "      <td>0.113080</td>\n",
       "      <td>0.005071</td>\n",
       "      <td>0.361790</td>\n",
       "      <td>0.001200</td>\n",
       "      <td>0.038332</td>\n",
       "    </tr>\n",
       "  </tbody>\n",
       "</table>\n",
       "</div>"
      ],
      "text/plain": [
       "         LAD                                           geometry  \\\n",
       "0  E06000001  POLYGON ((447213.900 537036.104, 447228.798 53...   \n",
       "1  E06000002  POLYGON ((448489.897 522071.798, 448592.597 52...   \n",
       "\n",
       "   mean annual income  dwelling_type: mobile  dwelling_type: flat  \\\n",
       "0             31050.0               0.001225             0.050340   \n",
       "1             35500.0               0.000344             0.051044   \n",
       "\n",
       "   dwelling_type: detached house  dwelling_type: semi-detached  \\\n",
       "0                       0.086149                      0.154878   \n",
       "1                       0.070061                      0.171865   \n",
       "\n",
       "   dwelling_type: terraced  no central heating  1 central heating  \\\n",
       "0                 0.143499            0.003644           0.390855   \n",
       "1                 0.113080            0.005071           0.361790   \n",
       "\n",
       "   2+ central heating (renewable)  2+ central heating (non-renewable)  \n",
       "0                        0.001918                            0.039654  \n",
       "1                        0.001200                            0.038332  "
      ]
     },
     "execution_count": 88,
     "metadata": {},
     "output_type": "execute_result"
    }
   ],
   "source": [
    "# normalise all the necessary fields\n",
    "# columns to normalise\n",
    "columns_to_normalise = [\n",
    "    'dwelling_type: mobile', 'dwelling_type: flat', 'dwelling_type: detached house',\n",
    "    'dwelling_type: semi-detached', 'dwelling_type: terraced',\n",
    "    'no central heating', '1 central heating',\n",
    "    '2+ central heating (renewable)', '2+ central heating (non-renewable)'\n",
    "]\n",
    "\n",
    "# remove rows where pop is NaN / 0\n",
    "cleaned_df = socec_df[socec_df['population'].notna() & (socec_df['population'] > 0)]\n",
    "\n",
    "# new df for normalised data\n",
    "nsocec_df = cleaned_df[['LAD', 'geometry', 'mean annual income']].copy()\n",
    "\n",
    "# normalise each column by population & display\n",
    "for column in columns_to_normalise:\n",
    "    nsocec_df[column] = cleaned_df[column] / cleaned_df['population']\n",
    "nsocec_df.head(2)"
   ]
  },
  {
   "cell_type": "code",
   "execution_count": 89,
   "id": "aa85b9d1-901a-493a-ba42-de033bbb6fb7",
   "metadata": {
    "tags": []
   },
   "outputs": [
    {
     "data": {
      "text/html": [
       "<div>\n",
       "<style scoped>\n",
       "    .dataframe tbody tr th:only-of-type {\n",
       "        vertical-align: middle;\n",
       "    }\n",
       "\n",
       "    .dataframe tbody tr th {\n",
       "        vertical-align: top;\n",
       "    }\n",
       "\n",
       "    .dataframe thead th {\n",
       "        text-align: right;\n",
       "    }\n",
       "</style>\n",
       "<table border=\"1\" class=\"dataframe\">\n",
       "  <thead>\n",
       "    <tr style=\"text-align: right;\">\n",
       "      <th></th>\n",
       "      <th>LAD</th>\n",
       "      <th>geometry</th>\n",
       "      <th>mean annual income</th>\n",
       "      <th>dwelling_type: mobile</th>\n",
       "      <th>dwelling_type: flat</th>\n",
       "      <th>dwelling_type: detached house</th>\n",
       "      <th>dwelling_type: semi-detached</th>\n",
       "      <th>dwelling_type: terraced</th>\n",
       "      <th>no central heating</th>\n",
       "      <th>1 central heating</th>\n",
       "      <th>2+ central heating (renewable)</th>\n",
       "      <th>2+ central heating (non-renewable)</th>\n",
       "    </tr>\n",
       "  </thead>\n",
       "  <tbody>\n",
       "    <tr>\n",
       "      <th>0</th>\n",
       "      <td>E06000001</td>\n",
       "      <td>POLYGON ((447213.89950 537036.10450, 447228.79...</td>\n",
       "      <td>31050.0</td>\n",
       "      <td>0.001225</td>\n",
       "      <td>0.050340</td>\n",
       "      <td>0.086149</td>\n",
       "      <td>0.154878</td>\n",
       "      <td>0.143499</td>\n",
       "      <td>0.003644</td>\n",
       "      <td>0.390855</td>\n",
       "      <td>0.001918</td>\n",
       "      <td>0.039654</td>\n",
       "    </tr>\n",
       "    <tr>\n",
       "      <th>1</th>\n",
       "      <td>E06000002</td>\n",
       "      <td>POLYGON ((448489.89690 522071.79790, 448592.59...</td>\n",
       "      <td>35500.0</td>\n",
       "      <td>0.000344</td>\n",
       "      <td>0.051044</td>\n",
       "      <td>0.070061</td>\n",
       "      <td>0.171865</td>\n",
       "      <td>0.113080</td>\n",
       "      <td>0.005071</td>\n",
       "      <td>0.361790</td>\n",
       "      <td>0.001200</td>\n",
       "      <td>0.038332</td>\n",
       "    </tr>\n",
       "  </tbody>\n",
       "</table>\n",
       "</div>"
      ],
      "text/plain": [
       "         LAD                                           geometry  \\\n",
       "0  E06000001  POLYGON ((447213.89950 537036.10450, 447228.79...   \n",
       "1  E06000002  POLYGON ((448489.89690 522071.79790, 448592.59...   \n",
       "\n",
       "   mean annual income  dwelling_type: mobile  dwelling_type: flat  \\\n",
       "0             31050.0               0.001225             0.050340   \n",
       "1             35500.0               0.000344             0.051044   \n",
       "\n",
       "   dwelling_type: detached house  dwelling_type: semi-detached  \\\n",
       "0                       0.086149                      0.154878   \n",
       "1                       0.070061                      0.171865   \n",
       "\n",
       "   dwelling_type: terraced  no central heating  1 central heating  \\\n",
       "0                 0.143499            0.003644           0.390855   \n",
       "1                 0.113080            0.005071           0.361790   \n",
       "\n",
       "   2+ central heating (renewable)  2+ central heating (non-renewable)  \n",
       "0                        0.001918                            0.039654  \n",
       "1                        0.001200                            0.038332  "
      ]
     },
     "execution_count": 89,
     "metadata": {},
     "output_type": "execute_result"
    }
   ],
   "source": [
    "# convert to gdf using epsg:4326\n",
    "nsocec_gdf = gpd.GeoDataFrame(nsocec_df, geometry='geometry')\n",
    "nsocec_gdf.set_crs(\"epsg:4326\", inplace=True, allow_override=True)\n",
    "nsocec_gdf.head(2)"
   ]
  },
  {
   "cell_type": "markdown",
   "id": "6ef6d227-bf90-4f82-ba3a-e250cc54e789",
   "metadata": {},
   "source": [
    "The socioeconomic data is merged and formatted. Below we produce the summary statistics for each field."
   ]
  },
  {
   "cell_type": "code",
   "execution_count": 91,
   "id": "c8221d69-d90b-4e4e-9591-d1eb794ea354",
   "metadata": {
    "tags": []
   },
   "outputs": [
    {
     "name": "stdout",
     "output_type": "stream",
     "text": [
      "Numeric Fields Summary Statistics:\n",
      "        mean annual income  dwelling_type: mobile  dwelling_type: flat  \\\n",
      "count          301.000000             314.000000           314.000000   \n",
      "mean         46630.232558               0.002067             0.082017   \n",
      "std           9870.109740               0.002098             0.065401   \n",
      "min          31050.000000               0.000000             0.017910   \n",
      "25%          39000.000000               0.000503             0.044090   \n",
      "50%          44600.000000               0.001333             0.063788   \n",
      "75%          53350.000000               0.002957             0.094242   \n",
      "max         101800.000000               0.013217             0.443809   \n",
      "\n",
      "       dwelling_type: detached house  dwelling_type: semi-detached  \\\n",
      "count                     314.000000                    314.000000   \n",
      "mean                        0.108347                      0.130504   \n",
      "std                         0.055624                      0.037655   \n",
      "min                         0.000645                      0.001383   \n",
      "25%                         0.061627                      0.113079   \n",
      "50%                         0.108352                      0.129826   \n",
      "75%                         0.154927                      0.153265   \n",
      "max                         0.230133                      0.208866   \n",
      "\n",
      "       dwelling_type: terraced  no central heating  1 central heating  \\\n",
      "count               314.000000          314.000000         314.000000   \n",
      "mean                  0.092400            0.005939           0.371254   \n",
      "std                   0.034206            0.004523           0.023074   \n",
      "min                   0.007191            0.002067           0.259097   \n",
      "25%                   0.070083            0.004013           0.359787   \n",
      "50%                   0.087103            0.004991           0.372924   \n",
      "75%                   0.107266            0.006824           0.388052   \n",
      "max                   0.226177            0.072337           0.420104   \n",
      "\n",
      "       2+ central heating (renewable)  2+ central heating (non-renewable)  \n",
      "count                      314.000000                          314.000000  \n",
      "mean                         0.002470                            0.035671  \n",
      "std                          0.001553                            0.006680  \n",
      "min                          0.000777                            0.023665  \n",
      "25%                          0.001545                            0.031555  \n",
      "50%                          0.002032                            0.034285  \n",
      "75%                          0.003090                            0.038071  \n",
      "max                          0.017536                            0.064007  \n",
      "\n",
      "Geometry Types:\n",
      " Polygon         296\n",
      "MultiPolygon     18\n",
      "Name: count, dtype: int64\n"
     ]
    }
   ],
   "source": [
    "# summary statistics for numeric fields\n",
    "numeric_stats = nsocec_gdf.describe()\n",
    "\n",
    "# statistics for 'geometry'\n",
    "if 'geometry' in nsocec_gdf.columns:\n",
    "    geometry_types = nsocec_gdf['geometry'].geom_type.value_counts()\n",
    "\n",
    "# numeric statistics\n",
    "print(\"Numeric Fields Summary Statistics:\\n\", numeric_stats)\n",
    "\n",
    "# print the geometry statistics\n",
    "if 'geometry' in nsocec_gdf.columns:\n",
    "    print(\"\\nGeometry Types:\\n\", geometry_types)"
   ]
  },
  {
   "cell_type": "markdown",
   "id": "9216cd80-5f17-4de5-a021-e26f86500920",
   "metadata": {},
   "source": [
    "The average mean annual income across the 301 entries is approximately £46,630, but the range is quite broad, with a maximum income reported as £101,800. The normalised dwelling data reveals a predominance of flats and semi-detached houses, with relatively minor variations in central heating systems, suggesting a general uniformity in dwelling types and heating across the sampled regions.\n",
    "\n",
    "The presence of missing data in 'mean annual income' alongside its lack of normalisation may skew comparative analyses, especially when compared to other per capita normalised metrics. The mix of Polygon and MultiPolygon geometries in the dataset necessitates careful handling to ensure accuracy in spatial operations and consistency in geographic analyses."
   ]
  },
  {
   "cell_type": "code",
   "execution_count": 220,
   "id": "c6ab0126-95b7-48c1-8c19-e00c89e76380",
   "metadata": {
    "tags": []
   },
   "outputs": [
    {
     "name": "stdout",
     "output_type": "stream",
     "text": [
      "Missing data in 'mean annual income' before cleanup: 0\n",
      "After imputing missing values with median: 0\n",
      "\n",
      "Final Data Types in DataFrame:\n"
     ]
    },
    {
     "data": {
      "text/plain": [
       "LAD                                    object\n",
       "geometry                               object\n",
       "mean annual income                    float64\n",
       "dwelling_type: mobile                 float64\n",
       "dwelling_type: flat                   float64\n",
       "dwelling_type: detached house         float64\n",
       "dwelling_type: semi-detached          float64\n",
       "dwelling_type: terraced               float64\n",
       "no central heating                    float64\n",
       "1 central heating                     float64\n",
       "2+ central heating (renewable)        float64\n",
       "2+ central heating (non-renewable)    float64\n",
       "dtype: object"
      ]
     },
     "execution_count": 220,
     "metadata": {},
     "output_type": "execute_result"
    }
   ],
   "source": [
    "# address missing data in 'mean annual income'\n",
    "print(f\"Missing data in 'mean annual income' before cleanup: {nsocec_df['mean annual income'].isna().sum()}\")\n",
    "nsocec_df['mean annual income'].fillna(nsocec_df['mean annual income'].median(), inplace=True)\n",
    "print(f\"After imputing missing values with median: {nsocec_df['mean annual income'].isna().sum()}\")\n",
    "\n",
    "# ensure geometry consistency\n",
    "nsocec_df['geometry'] = nsocec_df['geometry'].apply(lambda x: x if x.is_valid else x.buffer(0))\n",
    "nsocec_df = nsocec_df.explode('geometry')\n",
    "\n",
    "# correct data type inconsistencies\n",
    "nsocec_df['mean annual income'] = pd.to_numeric(nsocec_df['mean annual income'], errors='coerce')\n",
    "\n",
    "# status report\n",
    "print(\"\\nData Types in DataFrame:\")\n",
    "nsocec_df.dtypes"
   ]
  },
  {
   "cell_type": "markdown",
   "id": "be9f5e9f-b274-4e51-8ac0-2e17b3902b8e",
   "metadata": {
    "tags": []
   },
   "source": [
    "## 5.0 Analysis\n",
    "\n",
    "After cleaning and conducting an inner join on the energy consumption data, there are 1429 data points remaining. We now proceed with the analysis. First, this entails segmentation and secondly a socioeconomic analysis of those consumers segments."
   ]
  },
  {
   "cell_type": "markdown",
   "id": "4c790e40-d374-4308-9782-d95c478f9a75",
   "metadata": {},
   "source": [
    "### 5.1 Segmentation of UK Energy Consumers: Unsupervised Clustering\n",
    "\n",
    "Below, we leverage unsupervised spatial clustering to group consumers based on energy consumption and geography. These groups will then be categorised into four segments we will use in the second part of our analysis. These segments are:\n",
    "- High: Top 25% of consumption\n",
    "- Medium-High: 50-75% of consumption\n",
    "- Medium-Low: 25-50% of consumption\n",
    "- Low: Bottom 25% of consumption\n",
    "\n",
    "In our study of UK energy consumption, we applied the K-Means clustering algorithm to segment consumers based on usage and location. The optimal number of clusters was determined using the Elbow Method, which identifies the point where the increase in clusters ceases to significantly reduce the within-cluster sum of squares. This approach helps in choosing an appropriate cluster count that maximises both cluster compactness and separation.\n",
    "\n",
    "The effectiveness of the clusters was evaluated using the Silhouette Score, a measure of how well-separated the clusters are relative to their proximity. High Silhouette Scores indicate well-defined clusters, supporting the robustness of our clustering approach, which is crucial for informed energy policy development."
   ]
  },
  {
   "cell_type": "code",
   "execution_count": 838,
   "id": "d29b54a2-7f21-48d0-92f8-b9263f8d07e8",
   "metadata": {
    "tags": []
   },
   "outputs": [],
   "source": [
    "# read in spatial consumption data\n",
    "gdf = gpd.read_file('energycon.gpkg')"
   ]
  },
  {
   "cell_type": "code",
   "execution_count": 840,
   "id": "fee67ae1-ed05-43b4-8070-e0372ea974ad",
   "metadata": {
    "tags": []
   },
   "outputs": [],
   "source": [
    "#init. values for the spatial clustering\n",
    "gdf['x'] = gdf.geometry.x\n",
    "gdf['y'] = gdf.geometry.y\n",
    "\n",
    "# prep data for clustering\n",
    "X = gdf[['n_gas_median_cons_kwh', 'n_elec_median_cons_kwh', 'x', 'y']]\n",
    "\n",
    "# scale features\n",
    "scaler = StandardScaler()\n",
    "X_scaled = scaler.fit_transform(X)"
   ]
  },
  {
   "cell_type": "code",
   "execution_count": 844,
   "id": "c690e43a-2503-4515-8ea7-b3fc7fca7d32",
   "metadata": {
    "tags": []
   },
   "outputs": [
    {
     "data": {
      "image/png": "[encoded data removed]",
      "text/plain": [
       "<Figure size 1000x800 with 1 Axes>"
      ]
     },
     "metadata": {},
     "output_type": "display_data"
    }
   ],
   "source": [
    "# elbow analysis\n",
    "wcss = []\n",
    "for i in range(1, 31):  # 1 to 30\n",
    "    kmeans = KMeans(n_clusters=i, init='k-means++', max_iter=300, n_init=20, random_state=0)\n",
    "    kmeans.fit(X_scaled)\n",
    "    wcss.append(kmeans.inertia_)\n",
    "\n",
    "# plot WCSS values\n",
    "plt.figure(figsize=(10, 8))\n",
    "plt.plot(range(1, 31), wcss)\n",
    "plt.title('Elbow Method')\n",
    "plt.xlabel('Number of clusters')\n",
    "plt.ylabel('WCSS')\n",
    "plt.yscale('log')\n",
    "plt.show()"
   ]
  },
  {
   "cell_type": "code",
   "execution_count": 845,
   "id": "80a6a7ae-21cf-4655-9050-7dde9f7c5695",
   "metadata": {
    "tags": []
   },
   "outputs": [
    {
     "data": {
      "image/png": "[encoded data removed]",
      "text/plain": [
       "<Figure size 1000x800 with 1 Axes>"
      ]
     },
     "metadata": {},
     "output_type": "display_data"
    }
   ],
   "source": [
    "# init and create loop\n",
    "silhouette_scores = []\n",
    "for i in range(2, 31):\n",
    "    kmeans = KMeans(n_clusters=i, init='k-means++', max_iter=300, n_init=20, random_state=0)\n",
    "    labels = kmeans.fit_predict(X_scaled)\n",
    "    score = silhouette_score(X_scaled, labels)\n",
    "    silhouette_scores.append(score)\n",
    "\n",
    "# plot silhouette scores\n",
    "plt.figure(figsize=(10, 8))\n",
    "plt.plot(range(2, 31), silhouette_scores, marker='o')\n",
    "plt.title('Silhouette Scores for Various Clusters')\n",
    "plt.xlabel('Number of clusters')\n",
    "plt.ylabel('Silhouette Score')\n",
    "plt.show()"
   ]
  },
  {
   "cell_type": "code",
   "execution_count": 846,
   "id": "940a621f-9a1a-48ab-a67f-9287db3e90af",
   "metadata": {
    "tags": []
   },
   "outputs": [
    {
     "data": {
      "image/png": "[encoded data removed]",
      "text/plain": [
       "<Figure size 1000x800 with 1 Axes>"
      ]
     },
     "metadata": {},
     "output_type": "display_data"
    }
   ],
   "source": [
    "# Calinski-Harabasz Index\n",
    "calinski_harabasz_scores = []\n",
    "for i in range(2, 31):  # Cannot compute with only one cluster\n",
    "    kmeans = KMeans(n_clusters=i, init='k-means++', max_iter=300, n_init=20, random_state=0)\n",
    "    labels = kmeans.fit_predict(X_scaled)\n",
    "    score = calinski_harabasz_score(X_scaled, labels)\n",
    "    calinski_harabasz_scores.append(score)\n",
    "\n",
    "# plot CH index\n",
    "plt.figure(figsize=(10, 8))\n",
    "plt.plot(range(2, 31), calinski_harabasz_scores, marker='o')\n",
    "plt.title('Calinski-Harabasz Index for Various Clusters')\n",
    "plt.xlabel('Number of clusters')\n",
    "plt.ylabel('Calinski-Harabasz Index')\n",
    "plt.show()"
   ]
  },
  {
   "cell_type": "markdown",
   "id": "57336640-9d5b-44d8-acfb-ceb7962bd907",
   "metadata": {},
   "source": [
    "#### 5.1.1 Number of Clusters\n",
    "The Elbow Method suggests a more gradual WCSS decrease from 10 clusters, while the Silhouette Score plateaus after 5, indicating stable cluster definition. The Calinski-Harabasz Index increases with more clusters and shows no clear plateau. Between 7 -10 the gradient becomes more stable. Combining these insights, starting with 10 clusters would balance distinctness and model complexity, aligning with the goal of identifying meaningful UK energy consumption segments."
   ]
  },
  {
   "cell_type": "code",
   "execution_count": 848,
   "id": "8cc8b653-82cf-4d28-a0c8-517f8f52841a",
   "metadata": {
    "tags": []
   },
   "outputs": [
    {
     "name": "stderr",
     "output_type": "stream",
     "text": [
      "/Users/nikhildesai/anaconda3/lib/python3.11/site-packages/sklearn/cluster/_kmeans.py:1412: FutureWarning: The default value of `n_init` will change from 10 to 'auto' in 1.4. Set the value of `n_init` explicitly to suppress the warning\n",
      "  super()._check_params_vs_input(X, default_n_init=10)\n"
     ]
    },
    {
     "data": {
      "image/png": "[encoded data removed]",
      "text/plain": [
       "<Figure size 1500x1000 with 1 Axes>"
      ]
     },
     "metadata": {},
     "output_type": "display_data"
    }
   ],
   "source": [
    "# 10 clusters\n",
    "optimal_clusters = 10\n",
    "kmeans = KMeans(n_clusters=optimal_clusters, random_state=0)\n",
    "cluster_labels = kmeans.fit_predict(X_scaled)\n",
    "\n",
    "# cluster labels\n",
    "gdf['cluster'] = cluster_labels\n",
    "\n",
    "fig, ax = plt.subplots(1, 1, figsize=(15, 10))\n",
    "gdf.plot(column='cluster', ax=ax, categorical=True, legend=True, legend_kwds={'title': \"Cluster\"})\n",
    "\n",
    "plt.title('Spatial Clustering of UK Energy Consumers')\n",
    "plt.xlabel('Longitude')\n",
    "plt.ylabel('Latitude')\n",
    "plt.show()"
   ]
  },
  {
   "cell_type": "markdown",
   "id": "da2862a6-0813-4785-b11d-c56e36437b33",
   "metadata": {},
   "source": [
    "#### 5.1.2 Segment Clusters by Quartile\n",
    "K-means has grouped UK energy consumers into 10 clusters. Below we segment clusters by type of consumption behaviour."
   ]
  },
  {
   "cell_type": "code",
   "execution_count": 873,
   "id": "113b2c86-1a45-4dc3-af50-e87f45b4faa7",
   "metadata": {
    "tags": []
   },
   "outputs": [
    {
     "data": {
      "text/html": [
       "<div>\n",
       "<style scoped>\n",
       "    .dataframe tbody tr th:only-of-type {\n",
       "        vertical-align: middle;\n",
       "    }\n",
       "\n",
       "    .dataframe tbody tr th {\n",
       "        vertical-align: top;\n",
       "    }\n",
       "\n",
       "    .dataframe thead th {\n",
       "        text-align: right;\n",
       "    }\n",
       "</style>\n",
       "<table border=\"1\" class=\"dataframe\">\n",
       "  <thead>\n",
       "    <tr style=\"text-align: right;\">\n",
       "      <th></th>\n",
       "      <th>total_energy</th>\n",
       "      <th>n_gas_median_cons_kwh</th>\n",
       "      <th>n_elec_median_cons_kwh</th>\n",
       "      <th>cluster</th>\n",
       "      <th>consumption_section</th>\n",
       "      <th>outcode</th>\n",
       "      <th>geometry</th>\n",
       "    </tr>\n",
       "  </thead>\n",
       "  <tbody>\n",
       "    <tr>\n",
       "      <th>0</th>\n",
       "      <td>0.356490</td>\n",
       "      <td>0.287219</td>\n",
       "      <td>0.069271</td>\n",
       "      <td>1</td>\n",
       "      <td>Medium-High</td>\n",
       "      <td>AL1</td>\n",
       "      <td>POINT (-1.23428 54.57754)</td>\n",
       "    </tr>\n",
       "    <tr>\n",
       "      <th>1</th>\n",
       "      <td>0.318055</td>\n",
       "      <td>0.253254</td>\n",
       "      <td>0.064801</td>\n",
       "      <td>4</td>\n",
       "      <td>Medium-Low</td>\n",
       "      <td>AL10</td>\n",
       "      <td>POINT (-0.22457 51.77064)</td>\n",
       "    </tr>\n",
       "    <tr>\n",
       "      <th>2</th>\n",
       "      <td>0.632206</td>\n",
       "      <td>0.511699</td>\n",
       "      <td>0.120507</td>\n",
       "      <td>1</td>\n",
       "      <td>Medium-High</td>\n",
       "      <td>AL2</td>\n",
       "      <td>POINT (-1.23429 54.57725)</td>\n",
       "    </tr>\n",
       "    <tr>\n",
       "      <th>3</th>\n",
       "      <td>0.519160</td>\n",
       "      <td>0.423208</td>\n",
       "      <td>0.095952</td>\n",
       "      <td>4</td>\n",
       "      <td>Medium-Low</td>\n",
       "      <td>AL3</td>\n",
       "      <td>POINT (-0.33501 51.76730)</td>\n",
       "    </tr>\n",
       "    <tr>\n",
       "      <th>4</th>\n",
       "      <td>0.527656</td>\n",
       "      <td>0.424410</td>\n",
       "      <td>0.103246</td>\n",
       "      <td>4</td>\n",
       "      <td>Medium-Low</td>\n",
       "      <td>AL4</td>\n",
       "      <td>POINT (-0.24983 51.73707)</td>\n",
       "    </tr>\n",
       "    <tr>\n",
       "      <th>...</th>\n",
       "      <td>...</td>\n",
       "      <td>...</td>\n",
       "      <td>...</td>\n",
       "      <td>...</td>\n",
       "      <td>...</td>\n",
       "      <td>...</td>\n",
       "      <td>...</td>\n",
       "    </tr>\n",
       "    <tr>\n",
       "      <th>1424</th>\n",
       "      <td>0.294158</td>\n",
       "      <td>0.233747</td>\n",
       "      <td>0.060411</td>\n",
       "      <td>7</td>\n",
       "      <td>Medium-Low</td>\n",
       "      <td>SA15</td>\n",
       "      <td>POINT (-4.16227 51.80093)</td>\n",
       "    </tr>\n",
       "    <tr>\n",
       "      <th>1425</th>\n",
       "      <td>1.336915</td>\n",
       "      <td>1.066525</td>\n",
       "      <td>0.270390</td>\n",
       "      <td>7</td>\n",
       "      <td>Medium-Low</td>\n",
       "      <td>SA16</td>\n",
       "      <td>POINT (-4.29071 51.69504)</td>\n",
       "    </tr>\n",
       "    <tr>\n",
       "      <th>1426</th>\n",
       "      <td>0.426431</td>\n",
       "      <td>0.343534</td>\n",
       "      <td>0.082897</td>\n",
       "      <td>7</td>\n",
       "      <td>Medium-Low</td>\n",
       "      <td>SA18</td>\n",
       "      <td>POINT (-4.03219 51.80476)</td>\n",
       "    </tr>\n",
       "    <tr>\n",
       "      <th>1427</th>\n",
       "      <td>1.379279</td>\n",
       "      <td>1.079459</td>\n",
       "      <td>0.299820</td>\n",
       "      <td>7</td>\n",
       "      <td>Medium-Low</td>\n",
       "      <td>SA19</td>\n",
       "      <td>POINT (-3.93267 52.04168)</td>\n",
       "    </tr>\n",
       "    <tr>\n",
       "      <th>1428</th>\n",
       "      <td>0.354265</td>\n",
       "      <td>0.290517</td>\n",
       "      <td>0.063748</td>\n",
       "      <td>4</td>\n",
       "      <td>Medium-Low</td>\n",
       "      <td>SA2</td>\n",
       "      <td>POINT (-0.49746 51.69759)</td>\n",
       "    </tr>\n",
       "  </tbody>\n",
       "</table>\n",
       "<p>1429 rows × 7 columns</p>\n",
       "</div>"
      ],
      "text/plain": [
       "      total_energy  n_gas_median_cons_kwh  n_elec_median_cons_kwh  cluster  \\\n",
       "0         0.356490               0.287219                0.069271        1   \n",
       "1         0.318055               0.253254                0.064801        4   \n",
       "2         0.632206               0.511699                0.120507        1   \n",
       "3         0.519160               0.423208                0.095952        4   \n",
       "4         0.527656               0.424410                0.103246        4   \n",
       "...            ...                    ...                     ...      ...   \n",
       "1424      0.294158               0.233747                0.060411        7   \n",
       "1425      1.336915               1.066525                0.270390        7   \n",
       "1426      0.426431               0.343534                0.082897        7   \n",
       "1427      1.379279               1.079459                0.299820        7   \n",
       "1428      0.354265               0.290517                0.063748        4   \n",
       "\n",
       "     consumption_section outcode                   geometry  \n",
       "0            Medium-High     AL1  POINT (-1.23428 54.57754)  \n",
       "1             Medium-Low    AL10  POINT (-0.22457 51.77064)  \n",
       "2            Medium-High     AL2  POINT (-1.23429 54.57725)  \n",
       "3             Medium-Low     AL3  POINT (-0.33501 51.76730)  \n",
       "4             Medium-Low     AL4  POINT (-0.24983 51.73707)  \n",
       "...                  ...     ...                        ...  \n",
       "1424          Medium-Low    SA15  POINT (-4.16227 51.80093)  \n",
       "1425          Medium-Low    SA16  POINT (-4.29071 51.69504)  \n",
       "1426          Medium-Low    SA18  POINT (-4.03219 51.80476)  \n",
       "1427          Medium-Low    SA19  POINT (-3.93267 52.04168)  \n",
       "1428          Medium-Low     SA2  POINT (-0.49746 51.69759)  \n",
       "\n",
       "[1429 rows x 7 columns]"
      ]
     },
     "execution_count": 873,
     "metadata": {},
     "output_type": "execute_result"
    }
   ],
   "source": [
    "# calc total energy cons.\n",
    "gdf['total_energy'] = gdf['n_gas_median_cons_kwh'] + gdf['n_elec_median_cons_kwh']\n",
    "\n",
    "# calc median total energy consumption for each cluster\n",
    "cluster_median = gdf.groupby('cluster')['total_energy'].median().sort_values()\n",
    "\n",
    "# quartile cutoffs for total energy consumption among clusters\n",
    "quantiles = cluster_median.quantile([0.25, 0.5, 0.75])\n",
    "\n",
    "# to determine category based on quartiles\n",
    "def consumption_category(value):\n",
    "    if value <= quantiles.iloc[0]:\n",
    "        return 'Low'\n",
    "    elif value <= quantiles.iloc[1]:\n",
    "        return 'Medium-Low'\n",
    "    elif value <= quantiles.iloc[2]:\n",
    "        return 'Medium-High'\n",
    "    else:\n",
    "        return 'High'\n",
    "\n",
    "# map clusters to category\n",
    "cluster_to_category = cluster_median.map(consumption_category).to_dict()\n",
    "gdf['consumption_section'] = gdf['cluster'].map(cluster_to_category)\n",
    "\n",
    "# print final df\n",
    "cluscon_df = gdf[['total_energy', 'n_gas_median_cons_kwh', 'n_elec_median_cons_kwh', 'cluster', 'consumption_section', 'outcode', 'geometry']]\n",
    "cluscon_df"
   ]
  },
  {
   "cell_type": "markdown",
   "id": "0f07ed5a-75ac-4cc2-b645-872bd315c19a",
   "metadata": {
    "tags": []
   },
   "source": [
    "### 5.2 Factors Contributing to Segment Energy Consumption: Multilogistic Regression Analysis"
   ]
  },
  {
   "cell_type": "code",
   "execution_count": null,
   "id": "f0d4be7f-77bb-4664-ad27-15678983f9ad",
   "metadata": {},
   "outputs": [],
   "source": []
  },
  {
   "cell_type": "code",
   "execution_count": null,
   "id": "349ccef2-6ba8-496c-bbfd-17913d4da032",
   "metadata": {},
   "outputs": [],
   "source": []
  },
  {
   "cell_type": "code",
   "execution_count": null,
   "id": "4cef7d67-a47a-4596-9c60-57f133287eb7",
   "metadata": {},
   "outputs": [],
   "source": []
  },
  {
   "cell_type": "code",
   "execution_count": null,
   "id": "01e4590d-8775-4232-b50a-39bf37826f54",
   "metadata": {},
   "outputs": [],
   "source": []
  },
  {
   "cell_type": "code",
   "execution_count": null,
   "id": "ab3326aa-ff59-4472-a595-d6ca7887334b",
   "metadata": {},
   "outputs": [],
   "source": []
  },
  {
   "cell_type": "code",
   "execution_count": null,
   "id": "11805582-5dd8-4901-833b-6bf2d4c0edff",
   "metadata": {},
   "outputs": [],
   "source": []
  },
  {
   "cell_type": "markdown",
   "id": "2692c5db-180a-4b77-91ea-fcdd4d85772f",
   "metadata": {},
   "source": [
    "### 6.0 Discussion"
   ]
  },
  {
   "cell_type": "code",
   "execution_count": null,
   "id": "f840b7b1-ba5f-4a77-8cd1-a101fe8791d9",
   "metadata": {},
   "outputs": [],
   "source": []
  },
  {
   "cell_type": "markdown",
   "id": "b175d93c-5523-45bd-aa52-5ac5cd8585d8",
   "metadata": {},
   "source": [
    "#### References\n",
    "\n",
    "Balashankar, A. et al. (2022) ‘Targeted policy recommendations using outcome-aware clustering’, ACM SIGCAS/SIGCHI Conference on Computing and Sustainable Societies (COMPASS). doi:10.1145/3530190.3534797. \n",
    "\n",
    "Dou, Y., Tan, S. and Xie, D. (2023) ‘Comparison of machine learning and statistical methods in the field of Renewable Energy Power Generation Forecasting: A mini review’, Frontiers in Energy Research, 11. doi:10.3389/fenrg.2023.1218603. \n",
    "\n",
    "Forootan, M.M. et al. (2022) ‘Machine learning and deep learning in energy systems: A Review’, Sustainability, 14(8), p. 4832. doi:10.3390/su14084832. \n",
    "\n",
    "Rehmatulla, N., Calleya, J. and Smith, T. (2017) ‘The implementation of technical energy efficiency and CO 2 emission reduction measures in shipping’, Ocean Engineering, 139, pp. 184–197. doi:10.1016/j.oceaneng.2017.04.029. \n",
    "\n",
    "Słupik, S., Kos-Łabędowicz, J. and Trzęsiok, J., 2021. An innovative approach to energy consumer segmentation—a behavioural perspective. the case of the eco-bot project. Energies, 14(12), p.3556.\n"
   ]
  }
 ],
 "metadata": {
  "kernelspec": {
   "display_name": "Python 3 (ipykernel)",
   "language": "python",
   "name": "python3"
  },
  "language_info": {
   "codemirror_mode": {
    "name": "ipython",
    "version": 3
   },
   "file_extension": ".py",
   "mimetype": "text/x-python",
   "name": "python",
   "nbconvert_exporter": "python",
   "pygments_lexer": "ipython3",
   "version": "3.11.5"
  }
 },
 "nbformat": 4,
 "nbformat_minor": 5
}
