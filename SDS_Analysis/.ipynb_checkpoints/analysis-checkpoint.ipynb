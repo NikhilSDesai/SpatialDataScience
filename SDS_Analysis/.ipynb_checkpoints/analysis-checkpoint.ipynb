{
 "cells": [
  {
   "cell_type": "code",
   "execution_count": 1,
   "id": "ce87a458",
   "metadata": {},
   "outputs": [],
   "source": [
    "import pandas as pd\n",
    "from geopy.geocoders import Nominatim\n",
    "from geopy.extra.rate_limiter import RateLimiter\n",
    "import geopandas as gpd\n",
    "from shapely.geometry import Point\n",
    "import matplotlib.pyplot as plt"
   ]
  },
  {
   "cell_type": "markdown",
   "id": "bd0ae5c1-f687-474b-88ef-09d829ac8e27",
   "metadata": {},
   "source": [
    "## The following analysis is for the CASA0006 final assignment\n",
    "\n",
    "In this code we explore the following question: *Can unsupervised clustering reveal distinct patterns of household energy consumption across different regions of the UK, and what factors contribute to these patterns?*"
   ]
  },
  {
   "cell_type": "markdown",
   "id": "5029b4ff-6cef-477a-8acb-83c83d60ec35",
   "metadata": {},
   "source": [
    "The purpose of this analysis is to conduct an exploratory segmentation analysis of British energy consumption behaviour"
   ]
  },
  {
   "cell_type": "markdown",
   "id": "3564e417",
   "metadata": {},
   "source": [
    "### 0. Load Data & Inspect"
   ]
  },
  {
   "cell_type": "code",
   "execution_count": 2,
   "id": "fb668526-1ffa-4db8-bd53-73f001924f9f",
   "metadata": {},
   "outputs": [
    {
     "data": {
      "text/html": [
       "<div>\n",
       "<style scoped>\n",
       "    .dataframe tbody tr th:only-of-type {\n",
       "        vertical-align: middle;\n",
       "    }\n",
       "\n",
       "    .dataframe tbody tr th {\n",
       "        vertical-align: top;\n",
       "    }\n",
       "\n",
       "    .dataframe thead th {\n",
       "        text-align: right;\n",
       "    }\n",
       "</style>\n",
       "<table border=\"1\" class=\"dataframe\">\n",
       "  <thead>\n",
       "    <tr style=\"text-align: right;\">\n",
       "      <th></th>\n",
       "      <th>outcode</th>\n",
       "      <th>postcode</th>\n",
       "      <th>num_meters</th>\n",
       "      <th>total_cons_kwh</th>\n",
       "      <th>mean_cons_kwh</th>\n",
       "      <th>median_cons_kwh</th>\n",
       "      <th>Latitude_Longitude</th>\n",
       "      <th>geometry</th>\n",
       "    </tr>\n",
       "  </thead>\n",
       "  <tbody>\n",
       "    <tr>\n",
       "      <th>0</th>\n",
       "      <td>AB1</td>\n",
       "      <td>All postcodes</td>\n",
       "      <td>157</td>\n",
       "      <td>2.341706e+06</td>\n",
       "      <td>14915.321679</td>\n",
       "      <td>9644.512519</td>\n",
       "      <td>(57.1456496, -2.107086)</td>\n",
       "      <td>POINT (-2.10709 57.14565)</td>\n",
       "    </tr>\n",
       "    <tr>\n",
       "      <th>1</th>\n",
       "      <td>AB10</td>\n",
       "      <td>All postcodes</td>\n",
       "      <td>10756</td>\n",
       "      <td>1.267846e+08</td>\n",
       "      <td>11787.339920</td>\n",
       "      <td>9315.654063</td>\n",
       "      <td>(57.1363479, -2.1147281)</td>\n",
       "      <td>POINT (-2.11473 57.13635)</td>\n",
       "    </tr>\n",
       "    <tr>\n",
       "      <th>2</th>\n",
       "      <td>AB11</td>\n",
       "      <td>All postcodes</td>\n",
       "      <td>9930</td>\n",
       "      <td>9.760425e+07</td>\n",
       "      <td>9829.229976</td>\n",
       "      <td>7679.996322</td>\n",
       "      <td>(51.4765615, -0.473901)</td>\n",
       "      <td>POINT (-0.47390 51.47656)</td>\n",
       "    </tr>\n",
       "    <tr>\n",
       "      <th>3</th>\n",
       "      <td>AB12</td>\n",
       "      <td>All postcodes</td>\n",
       "      <td>11072</td>\n",
       "      <td>1.321706e+08</td>\n",
       "      <td>11937.376253</td>\n",
       "      <td>10712.676818</td>\n",
       "      <td>(51.4765368, -0.481525)</td>\n",
       "      <td>POINT (-0.48152 51.47654)</td>\n",
       "    </tr>\n",
       "    <tr>\n",
       "      <th>4</th>\n",
       "      <td>AB13</td>\n",
       "      <td>All postcodes</td>\n",
       "      <td>1204</td>\n",
       "      <td>2.392245e+07</td>\n",
       "      <td>19869.147242</td>\n",
       "      <td>18043.667598</td>\n",
       "      <td>(51.4764944, -0.4904462)</td>\n",
       "      <td>POINT (-0.49045 51.47649)</td>\n",
       "    </tr>\n",
       "  </tbody>\n",
       "</table>\n",
       "</div>"
      ],
      "text/plain": [
       "  outcode       postcode  num_meters  total_cons_kwh  mean_cons_kwh  \\\n",
       "0     AB1  All postcodes         157    2.341706e+06   14915.321679   \n",
       "1    AB10  All postcodes       10756    1.267846e+08   11787.339920   \n",
       "2    AB11  All postcodes        9930    9.760425e+07    9829.229976   \n",
       "3    AB12  All postcodes       11072    1.321706e+08   11937.376253   \n",
       "4    AB13  All postcodes        1204    2.392245e+07   19869.147242   \n",
       "\n",
       "   median_cons_kwh        Latitude_Longitude                   geometry  \n",
       "0      9644.512519   (57.1456496, -2.107086)  POINT (-2.10709 57.14565)  \n",
       "1      9315.654063  (57.1363479, -2.1147281)  POINT (-2.11473 57.13635)  \n",
       "2      7679.996322   (51.4765615, -0.473901)  POINT (-0.47390 51.47656)  \n",
       "3     10712.676818   (51.4765368, -0.481525)  POINT (-0.48152 51.47654)  \n",
       "4     18043.667598  (51.4764944, -0.4904462)  POINT (-0.49045 51.47649)  "
      ]
     },
     "execution_count": 2,
     "metadata": {},
     "output_type": "execute_result"
    }
   ],
   "source": [
    "# load cleaned gpkg\n",
    "gdf = gpd.read_file('data/updated_file.gpkg')\n",
    "\n",
    "# check it worked\n",
    "gdf.head()"
   ]
  },
  {
   "cell_type": "code",
   "execution_count": 3,
   "id": "2766b4e3-4937-405d-aa8e-da4bbd9ff76e",
   "metadata": {},
   "outputs": [
    {
     "data": {
      "text/html": [
       "<div>\n",
       "<style scoped>\n",
       "    .dataframe tbody tr th:only-of-type {\n",
       "        vertical-align: middle;\n",
       "    }\n",
       "\n",
       "    .dataframe tbody tr th {\n",
       "        vertical-align: top;\n",
       "    }\n",
       "\n",
       "    .dataframe thead th {\n",
       "        text-align: right;\n",
       "    }\n",
       "</style>\n",
       "<table border=\"1\" class=\"dataframe\">\n",
       "  <thead>\n",
       "    <tr style=\"text-align: right;\">\n",
       "      <th></th>\n",
       "      <th>outcode</th>\n",
       "      <th>total_cons_kwh</th>\n",
       "      <th>mean_cons_kwh</th>\n",
       "      <th>median_cons_kwh</th>\n",
       "      <th>geometry</th>\n",
       "    </tr>\n",
       "  </thead>\n",
       "  <tbody>\n",
       "    <tr>\n",
       "      <th>0</th>\n",
       "      <td>AB1</td>\n",
       "      <td>2.341706e+06</td>\n",
       "      <td>14915.321679</td>\n",
       "      <td>9644.512519</td>\n",
       "      <td>POINT (-2.10709 57.14565)</td>\n",
       "    </tr>\n",
       "    <tr>\n",
       "      <th>1</th>\n",
       "      <td>AB10</td>\n",
       "      <td>1.267846e+08</td>\n",
       "      <td>11787.339920</td>\n",
       "      <td>9315.654063</td>\n",
       "      <td>POINT (-2.11473 57.13635)</td>\n",
       "    </tr>\n",
       "    <tr>\n",
       "      <th>2</th>\n",
       "      <td>AB11</td>\n",
       "      <td>9.760425e+07</td>\n",
       "      <td>9829.229976</td>\n",
       "      <td>7679.996322</td>\n",
       "      <td>POINT (-0.47390 51.47656)</td>\n",
       "    </tr>\n",
       "    <tr>\n",
       "      <th>3</th>\n",
       "      <td>AB12</td>\n",
       "      <td>1.321706e+08</td>\n",
       "      <td>11937.376253</td>\n",
       "      <td>10712.676818</td>\n",
       "      <td>POINT (-0.48152 51.47654)</td>\n",
       "    </tr>\n",
       "    <tr>\n",
       "      <th>4</th>\n",
       "      <td>AB13</td>\n",
       "      <td>2.392245e+07</td>\n",
       "      <td>19869.147242</td>\n",
       "      <td>18043.667598</td>\n",
       "      <td>POINT (-0.49045 51.47649)</td>\n",
       "    </tr>\n",
       "  </tbody>\n",
       "</table>\n",
       "</div>"
      ],
      "text/plain": [
       "  outcode  total_cons_kwh  mean_cons_kwh  median_cons_kwh  \\\n",
       "0     AB1    2.341706e+06   14915.321679      9644.512519   \n",
       "1    AB10    1.267846e+08   11787.339920      9315.654063   \n",
       "2    AB11    9.760425e+07    9829.229976      7679.996322   \n",
       "3    AB12    1.321706e+08   11937.376253     10712.676818   \n",
       "4    AB13    2.392245e+07   19869.147242     18043.667598   \n",
       "\n",
       "                    geometry  \n",
       "0  POINT (-2.10709 57.14565)  \n",
       "1  POINT (-2.11473 57.13635)  \n",
       "2  POINT (-0.47390 51.47656)  \n",
       "3  POINT (-0.48152 51.47654)  \n",
       "4  POINT (-0.49045 51.47649)  "
      ]
     },
     "execution_count": 3,
     "metadata": {},
     "output_type": "execute_result"
    }
   ],
   "source": [
    "# drop unneccessary columns\n",
    "columns_to_drop = ['postcode', 'Latitude_Longitude', 'num_meters']\n",
    "gdf = gdf.drop(columns=columns_to_drop)\n",
    "# check\n",
    "gdf.head()"
   ]
  },
  {
   "cell_type": "code",
   "execution_count": 4,
   "id": "b76026a1",
   "metadata": {},
   "outputs": [
    {
     "data": {
      "image/png": "[encoded data removed]",
      "text/plain": [
       "<Figure size 640x480 with 1 Axes>"
      ]
     },
     "metadata": {},
     "output_type": "display_data"
    }
   ],
   "source": [
    "# plot data\n",
    "# aesthetics\n",
    "ax = gdf.plot(color='darkgreen', markersize=1)\n",
    "\n",
    "# background, remove axis labels & title\n",
    "ax.set_facecolor('black')\n",
    "ax.set_xticks([])\n",
    "ax.set_yticks([])\n",
    "ax.set_title('Geographic Distribution of ONS Data')\n",
    "\n",
    "# plot\n",
    "plt.show()"
   ]
  },
  {
   "cell_type": "markdown",
   "id": "87768bdc",
   "metadata": {},
   "source": [
    "### 1. Summary Statistics"
   ]
  },
  {
   "cell_type": "code",
   "execution_count": null,
   "id": "660b50a0",
   "metadata": {},
   "outputs": [],
   "source": []
  }
 ],
 "metadata": {
  "kernelspec": {
   "display_name": "Python 3 (ipykernel)",
   "language": "python",
   "name": "python3"
  },
  "language_info": {
   "codemirror_mode": {
    "name": "ipython",
    "version": 3
   },
   "file_extension": ".py",
   "mimetype": "text/x-python",
   "name": "python",
   "nbconvert_exporter": "python",
   "pygments_lexer": "ipython3",
   "version": "3.11.5"
  }
 },
 "nbformat": 4,
 "nbformat_minor": 5
}
