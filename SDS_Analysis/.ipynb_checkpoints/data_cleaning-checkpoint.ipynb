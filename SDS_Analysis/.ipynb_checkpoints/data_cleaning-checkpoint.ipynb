{
 "cells": [
  {
   "cell_type": "code",
   "execution_count": 22,
   "id": "2284d4a2-5a2d-44b1-b3da-7a7744b2d1bd",
   "metadata": {
    "tags": []
   },
   "outputs": [],
   "source": [
    "import pandas as pd\n",
    "from geopy.geocoders import Nominatim\n",
    "from geopy.extra.rate_limiter import RateLimiter\n",
    "import geopandas as gpd\n",
    "from shapely.geometry import Point"
   ]
  },
  {
   "cell_type": "markdown",
   "id": "e03537ae-133c-4164-ac4d-c13425031bfc",
   "metadata": {},
   "source": [
    "## The following analysis is for the CASA0006 final assignment\n",
    "\n",
    "In this code we explore the following question: *Can unsupervised clustering reveal distinct patterns of household energy consumption across different regions of the UK, and what factors contribute to these patterns?*"
   ]
  },
  {
   "cell_type": "markdown",
   "id": "8fe8ae5b-5324-410d-b40f-6ea853b00c9c",
   "metadata": {},
   "source": [
    "### 1. Read in Data and inspect it"
   ]
  },
  {
   "cell_type": "code",
   "execution_count": 4,
   "id": "505d6755-fb3f-4d8b-bad1-f58e1ef1f88e",
   "metadata": {
    "tags": []
   },
   "outputs": [
    {
     "data": {
      "text/html": [
       "<div>\n",
       "<style scoped>\n",
       "    .dataframe tbody tr th:only-of-type {\n",
       "        vertical-align: middle;\n",
       "    }\n",
       "\n",
       "    .dataframe tbody tr th {\n",
       "        vertical-align: top;\n",
       "    }\n",
       "\n",
       "    .dataframe thead th {\n",
       "        text-align: right;\n",
       "    }\n",
       "</style>\n",
       "<table border=\"1\" class=\"dataframe\">\n",
       "  <thead>\n",
       "    <tr style=\"text-align: right;\">\n",
       "      <th></th>\n",
       "      <th>outcode</th>\n",
       "      <th>postcode</th>\n",
       "      <th>num_meters</th>\n",
       "      <th>total_cons_kwh</th>\n",
       "      <th>mean_cons_kwh</th>\n",
       "      <th>median_cons_kwh</th>\n",
       "    </tr>\n",
       "  </thead>\n",
       "  <tbody>\n",
       "    <tr>\n",
       "      <th>0</th>\n",
       "      <td>AB1</td>\n",
       "      <td>All postcodes</td>\n",
       "      <td>157</td>\n",
       "      <td>2.341706e+06</td>\n",
       "      <td>14915.321679</td>\n",
       "      <td>9644.512519</td>\n",
       "    </tr>\n",
       "    <tr>\n",
       "      <th>4</th>\n",
       "      <td>AB10</td>\n",
       "      <td>All postcodes</td>\n",
       "      <td>10756</td>\n",
       "      <td>1.267846e+08</td>\n",
       "      <td>11787.339920</td>\n",
       "      <td>9315.654063</td>\n",
       "    </tr>\n",
       "    <tr>\n",
       "      <th>471</th>\n",
       "      <td>AB11</td>\n",
       "      <td>All postcodes</td>\n",
       "      <td>9930</td>\n",
       "      <td>9.760425e+07</td>\n",
       "      <td>9829.229976</td>\n",
       "      <td>7679.996322</td>\n",
       "    </tr>\n",
       "    <tr>\n",
       "      <th>890</th>\n",
       "      <td>AB12</td>\n",
       "      <td>All postcodes</td>\n",
       "      <td>11072</td>\n",
       "      <td>1.321706e+08</td>\n",
       "      <td>11937.376253</td>\n",
       "      <td>10712.676818</td>\n",
       "    </tr>\n",
       "    <tr>\n",
       "      <th>1380</th>\n",
       "      <td>AB13</td>\n",
       "      <td>All postcodes</td>\n",
       "      <td>1204</td>\n",
       "      <td>2.392245e+07</td>\n",
       "      <td>19869.147242</td>\n",
       "      <td>18043.667598</td>\n",
       "    </tr>\n",
       "  </tbody>\n",
       "</table>\n",
       "</div>"
      ],
      "text/plain": [
       "     outcode       postcode  num_meters  total_cons_kwh  mean_cons_kwh  \\\n",
       "0        AB1  All postcodes         157    2.341706e+06   14915.321679   \n",
       "4       AB10  All postcodes       10756    1.267846e+08   11787.339920   \n",
       "471     AB11  All postcodes        9930    9.760425e+07    9829.229976   \n",
       "890     AB12  All postcodes       11072    1.321706e+08   11937.376253   \n",
       "1380    AB13  All postcodes        1204    2.392245e+07   19869.147242   \n",
       "\n",
       "      median_cons_kwh  \n",
       "0         9644.512519  \n",
       "4         9315.654063  \n",
       "471       7679.996322  \n",
       "890      10712.676818  \n",
       "1380     18043.667598  "
      ]
     },
     "execution_count": 4,
     "metadata": {},
     "output_type": "execute_result"
    }
   ],
   "source": [
    "# read in data\n",
    "df = pd.read_csv('data/2022_gascon.csv')\n",
    "\n",
    "# dataset is too large\n",
    "# cut from specific postcodes to outcode (i.e. N4 2XG > N4) & check\n",
    "df = df[df['Postcode'] == 'All postcodes']\n",
    "\n",
    "# clean names\n",
    "# clean column names function\n",
    "def clean_column_names(column_name):\n",
    "    return column_name.strip().replace(' ', '_').lower()\n",
    "\n",
    "df.columns = [clean_column_names(col) for col in df.columns]\n",
    "\n",
    "# check\n",
    "df.head()"
   ]
  },
  {
   "cell_type": "code",
   "execution_count": 5,
   "id": "0c54158a-fc86-4409-b398-b1aeed95d688",
   "metadata": {
    "tags": []
   },
   "outputs": [
    {
     "name": "stdout",
     "output_type": "stream",
     "text": [
      "<class 'pandas.core.frame.DataFrame'>\n",
      "Index: 2550 entries, 0 to 1108726\n",
      "Data columns (total 6 columns):\n",
      " #   Column           Non-Null Count  Dtype  \n",
      "---  ------           --------------  -----  \n",
      " 0   outcode          2550 non-null   object \n",
      " 1   postcode         2550 non-null   object \n",
      " 2   num_meters       2550 non-null   int64  \n",
      " 3   total_cons_kwh   2550 non-null   float64\n",
      " 4   mean_cons_kwh    2550 non-null   float64\n",
      " 5   median_cons_kwh  2550 non-null   float64\n",
      "dtypes: float64(3), int64(1), object(2)\n",
      "memory usage: 139.5+ KB\n"
     ]
    }
   ],
   "source": [
    "df.info()"
   ]
  },
  {
   "cell_type": "markdown",
   "id": "e4260cd4-9a78-471b-bd48-a4fb02ac0a64",
   "metadata": {},
   "source": [
    "### The following code uses the *geopy* package to get coordinates using *outcode* column"
   ]
  },
  {
   "cell_type": "code",
   "execution_count": 9,
   "id": "114cbf61-c7ef-4382-a8e8-304e255a089c",
   "metadata": {
    "tags": []
   },
   "outputs": [],
   "source": [
    "geolocator = Nominatim(user_agent=\"geoapiExercises\")\n",
    "\n",
    "# function to get latitude and longitude\n",
    "def get_lat_lon(outcode):\n",
    "    try:\n",
    "        location = geolocator.geocode(f\"{outcode}, United Kingdom\")\n",
    "        return (location.latitude, location.longitude)\n",
    "    except:\n",
    "        return (None, None)\n",
    "\n",
    "# avoid hitting rate limits\n",
    "geocode = RateLimiter(geolocator.geocode, min_delay_seconds=1)\n",
    "\n",
    "# apply to outcode column\n",
    "df['Latitude_Longitude'] = df['outcode'].apply(lambda x: get_lat_lon(x))"
   ]
  },
  {
   "cell_type": "code",
   "execution_count": 11,
   "id": "33f5758d-b15f-47e9-b785-6238cdcd2eca",
   "metadata": {
    "tags": []
   },
   "outputs": [],
   "source": [
    "# save df as new csv\n",
    "df.to_csv('updated_file.csv', index=False)"
   ]
  },
  {
   "cell_type": "code",
   "execution_count": null,
   "id": "2eb07116-52a6-4e4e-bc47-ea5588f05091",
   "metadata": {},
   "outputs": [],
   "source": [
    "### Read in new cleaned and "
   ]
  },
  {
   "cell_type": "code",
   "execution_count": 34,
   "id": "9d444a08-847a-4420-bd7a-3a81c8ae8a0c",
   "metadata": {
    "tags": []
   },
   "outputs": [],
   "source": [
    "df = pd.read_csv('data/updated_file.csv')"
   ]
  },
  {
   "cell_type": "code",
   "execution_count": 42,
   "id": "5067b5ef-d66d-452b-b35f-003934577db1",
   "metadata": {
    "tags": []
   },
   "outputs": [],
   "source": [
    "def parse_coordinates(coord_str):\n",
    "    # Strip parentheses and split by comma\n",
    "    clean_str = coord_str.strip('()')\n",
    "    try:\n",
    "        lat, lon = clean_str.split(',')\n",
    "        # Convert latitude and longitude to float and return as a Point\n",
    "        return Point(float(lon), float(lat))\n",
    "    except ValueError:\n",
    "        # Return None if conversion fails\n",
    "        return None\n",
    "\n",
    "# Apply the function to the Latitude_Longitude column\n",
    "df['geometry'] = df['Latitude_Longitude'].apply(parse_coordinates)\n",
    "\n",
    "# Remove rows where geometry is None\n",
    "df = df[df['geometry'].notna()]\n",
    "\n",
    "# Convert DataFrame to GeoDataFrame\n",
    "gdf = gpd.GeoDataFrame(df, geometry='geometry')\n",
    "\n",
    "# Set the coordinate reference system (CRS) for latitude and longitude\n",
    "gdf.set_crs(epsg=4326, inplace=True)\n",
    "\n",
    "# Save to a new CSV file or better, a GeoPackage for GIS compatibility\n",
    "gdf.to_file('updated_file.gpkg', driver='GPKG')"
   ]
  },
  {
   "cell_type": "code",
   "execution_count": 55,
   "id": "d9928a4d-a219-4d9f-b285-b85ee17213eb",
   "metadata": {
    "tags": []
   },
   "outputs": [
    {
     "data": {
      "text/html": [
       "<div>\n",
       "<style scoped>\n",
       "    .dataframe tbody tr th:only-of-type {\n",
       "        vertical-align: middle;\n",
       "    }\n",
       "\n",
       "    .dataframe tbody tr th {\n",
       "        vertical-align: top;\n",
       "    }\n",
       "\n",
       "    .dataframe thead th {\n",
       "        text-align: right;\n",
       "    }\n",
       "</style>\n",
       "<table border=\"1\" class=\"dataframe\">\n",
       "  <thead>\n",
       "    <tr style=\"text-align: right;\">\n",
       "      <th></th>\n",
       "      <th>outcode</th>\n",
       "      <th>postcode</th>\n",
       "      <th>num_meters</th>\n",
       "      <th>total_cons_kwh</th>\n",
       "      <th>mean_cons_kwh</th>\n",
       "      <th>median_cons_kwh</th>\n",
       "      <th>Latitude_Longitude</th>\n",
       "      <th>geometry</th>\n",
       "    </tr>\n",
       "  </thead>\n",
       "  <tbody>\n",
       "    <tr>\n",
       "      <th>0</th>\n",
       "      <td>AB1</td>\n",
       "      <td>All postcodes</td>\n",
       "      <td>157</td>\n",
       "      <td>2.341706e+06</td>\n",
       "      <td>14915.321679</td>\n",
       "      <td>9644.512519</td>\n",
       "      <td>(57.1456496, -2.107086)</td>\n",
       "      <td>POINT (-2.10709 57.14565)</td>\n",
       "    </tr>\n",
       "    <tr>\n",
       "      <th>1</th>\n",
       "      <td>AB10</td>\n",
       "      <td>All postcodes</td>\n",
       "      <td>10756</td>\n",
       "      <td>1.267846e+08</td>\n",
       "      <td>11787.339920</td>\n",
       "      <td>9315.654063</td>\n",
       "      <td>(57.1363479, -2.1147281)</td>\n",
       "      <td>POINT (-2.11473 57.13635)</td>\n",
       "    </tr>\n",
       "    <tr>\n",
       "      <th>2</th>\n",
       "      <td>AB11</td>\n",
       "      <td>All postcodes</td>\n",
       "      <td>9930</td>\n",
       "      <td>9.760425e+07</td>\n",
       "      <td>9829.229976</td>\n",
       "      <td>7679.996322</td>\n",
       "      <td>(51.4765615, -0.473901)</td>\n",
       "      <td>POINT (-0.47390 51.47656)</td>\n",
       "    </tr>\n",
       "    <tr>\n",
       "      <th>3</th>\n",
       "      <td>AB12</td>\n",
       "      <td>All postcodes</td>\n",
       "      <td>11072</td>\n",
       "      <td>1.321706e+08</td>\n",
       "      <td>11937.376253</td>\n",
       "      <td>10712.676818</td>\n",
       "      <td>(51.4765368, -0.481525)</td>\n",
       "      <td>POINT (-0.48152 51.47654)</td>\n",
       "    </tr>\n",
       "    <tr>\n",
       "      <th>4</th>\n",
       "      <td>AB13</td>\n",
       "      <td>All postcodes</td>\n",
       "      <td>1204</td>\n",
       "      <td>2.392245e+07</td>\n",
       "      <td>19869.147242</td>\n",
       "      <td>18043.667598</td>\n",
       "      <td>(51.4764944, -0.4904462)</td>\n",
       "      <td>POINT (-0.49045 51.47649)</td>\n",
       "    </tr>\n",
       "  </tbody>\n",
       "</table>\n",
       "</div>"
      ],
      "text/plain": [
       "  outcode       postcode  num_meters  total_cons_kwh  mean_cons_kwh  \\\n",
       "0     AB1  All postcodes         157    2.341706e+06   14915.321679   \n",
       "1    AB10  All postcodes       10756    1.267846e+08   11787.339920   \n",
       "2    AB11  All postcodes        9930    9.760425e+07    9829.229976   \n",
       "3    AB12  All postcodes       11072    1.321706e+08   11937.376253   \n",
       "4    AB13  All postcodes        1204    2.392245e+07   19869.147242   \n",
       "\n",
       "   median_cons_kwh        Latitude_Longitude                   geometry  \n",
       "0      9644.512519   (57.1456496, -2.107086)  POINT (-2.10709 57.14565)  \n",
       "1      9315.654063  (57.1363479, -2.1147281)  POINT (-2.11473 57.13635)  \n",
       "2      7679.996322   (51.4765615, -0.473901)  POINT (-0.47390 51.47656)  \n",
       "3     10712.676818   (51.4765368, -0.481525)  POINT (-0.48152 51.47654)  \n",
       "4     18043.667598  (51.4764944, -0.4904462)  POINT (-0.49045 51.47649)  "
      ]
     },
     "execution_count": 55,
     "metadata": {},
     "output_type": "execute_result"
    }
   ],
   "source": [
    "# load gpkg\n",
    "gdf = gpd.read_file('updated_file.gpkg')\n",
    "\n",
    "# check it worked\n",
    "gdf.head()"
   ]
  },
  {
   "cell_type": "code",
   "execution_count": 57,
   "id": "61ec3fd3-ab6e-417f-969c-abf189c07d32",
   "metadata": {
    "tags": []
   },
   "outputs": [
    {
     "data": {
      "text/plain": [
       "<Axes: >"
      ]
     },
     "execution_count": 57,
     "metadata": {},
     "output_type": "execute_result"
    },
    {
     "data": {
      "image/png": "[encoded data removed]",
      "text/plain": [
       "<Figure size 640x480 with 1 Axes>"
      ]
     },
     "metadata": {},
     "output_type": "display_data"
    }
   ],
   "source": [
    "# plot\n",
    "gdf.plot()"
   ]
  }
 ],
 "metadata": {
  "kernelspec": {
   "display_name": "Python 3 (ipykernel)",
   "language": "python",
   "name": "python3"
  },
  "language_info": {
   "codemirror_mode": {
    "name": "ipython",
    "version": 3
   },
   "file_extension": ".py",
   "mimetype": "text/x-python",
   "name": "python",
   "nbconvert_exporter": "python",
   "pygments_lexer": "ipython3",
   "version": "3.11.5"
  }
 },
 "nbformat": 4,
 "nbformat_minor": 5
}
