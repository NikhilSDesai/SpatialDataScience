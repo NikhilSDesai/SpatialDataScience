{
 "cells": [
  {
   "cell_type": "code",
   "execution_count": 5,
   "id": "ce87a458",
   "metadata": {
    "tags": []
   },
   "outputs": [],
   "source": [
    "import pandas as pd\n",
    "from geopy.geocoders import Nominatim\n",
    "from geopy.extra.rate_limiter import RateLimiter\n",
    "import geopandas as gpd\n",
    "from shapely.geometry import Point\n",
    "import matplotlib.pyplot as plt\n",
    "import seaborn as sns\n",
    "import numpy as np"
   ]
  },
  {
   "cell_type": "markdown",
   "id": "bd0ae5c1-f687-474b-88ef-09d829ac8e27",
   "metadata": {},
   "source": [
    "## The following analysis is for the CASA0006 final assignment\n",
    "\n",
    "In this code we explore the following question: *Can unsupervised clustering reveal distinct patterns of household energy consumption across different regions of the UK, and what factors contribute to these patterns?*"
   ]
  },
  {
   "cell_type": "markdown",
   "id": "5029b4ff-6cef-477a-8acb-83c83d60ec35",
   "metadata": {},
   "source": [
    "The purpose of this analysis is to conduct an exploratory segmentation analysis of British energy consumption behaviour"
   ]
  },
  {
   "cell_type": "markdown",
   "id": "3564e417",
   "metadata": {},
   "source": [
    "### 0. Load Data & Inspect"
   ]
  },
  {
   "cell_type": "code",
   "execution_count": 83,
   "id": "fb668526-1ffa-4db8-bd53-73f001924f9f",
   "metadata": {
    "tags": []
   },
   "outputs": [
    {
     "data": {
      "text/html": [
       "<div>\n",
       "<style scoped>\n",
       "    .dataframe tbody tr th:only-of-type {\n",
       "        vertical-align: middle;\n",
       "    }\n",
       "\n",
       "    .dataframe tbody tr th {\n",
       "        vertical-align: top;\n",
       "    }\n",
       "\n",
       "    .dataframe thead th {\n",
       "        text-align: right;\n",
       "    }\n",
       "</style>\n",
       "<table border=\"1\" class=\"dataframe\">\n",
       "  <thead>\n",
       "    <tr style=\"text-align: right;\">\n",
       "      <th></th>\n",
       "      <th>Local authority districts</th>\n",
       "      <th>population</th>\n",
       "      <th>Name</th>\n",
       "      <th>gas_median_cons_kwh</th>\n",
       "      <th>elec_median_cons_kwh</th>\n",
       "      <th>dwelling_type: mobile</th>\n",
       "      <th>dwelling_type: flat</th>\n",
       "      <th>dwelling_type: detached house</th>\n",
       "      <th>dwelling_type: semi-detached</th>\n",
       "      <th>dwelling_type: terraced</th>\n",
       "      <th>no central heating</th>\n",
       "      <th>1 central heating</th>\n",
       "      <th>2+ central heating (renewable)</th>\n",
       "      <th>2+ central heating (non-renewable)</th>\n",
       "      <th>mean annual income</th>\n",
       "      <th>geometry</th>\n",
       "    </tr>\n",
       "  </thead>\n",
       "  <tbody>\n",
       "    <tr>\n",
       "      <th>0</th>\n",
       "      <td>E06000001</td>\n",
       "      <td>93861.0</td>\n",
       "      <td>Hartlepool</td>\n",
       "      <td>9603.810817</td>\n",
       "      <td>2252.975000</td>\n",
       "      <td>0.001225</td>\n",
       "      <td>0.050340</td>\n",
       "      <td>0.086149</td>\n",
       "      <td>0.154878</td>\n",
       "      <td>0.143499</td>\n",
       "      <td>0.003644</td>\n",
       "      <td>0.390855</td>\n",
       "      <td>0.001918</td>\n",
       "      <td>0.039654</td>\n",
       "      <td>33741.666667</td>\n",
       "      <td>POLYGON ((447213.900 537036.104, 447228.798 53...</td>\n",
       "    </tr>\n",
       "    <tr>\n",
       "      <th>1</th>\n",
       "      <td>E06000002</td>\n",
       "      <td>148285.0</td>\n",
       "      <td>Middlesbrough</td>\n",
       "      <td>11800.598665</td>\n",
       "      <td>2810.900000</td>\n",
       "      <td>0.000344</td>\n",
       "      <td>0.051044</td>\n",
       "      <td>0.070061</td>\n",
       "      <td>0.171865</td>\n",
       "      <td>0.113080</td>\n",
       "      <td>0.005071</td>\n",
       "      <td>0.361790</td>\n",
       "      <td>0.001200</td>\n",
       "      <td>0.038332</td>\n",
       "      <td>35531.578947</td>\n",
       "      <td>POLYGON ((448489.897 522071.798, 448592.597 52...</td>\n",
       "    </tr>\n",
       "    <tr>\n",
       "      <th>2</th>\n",
       "      <td>E06000003</td>\n",
       "      <td>137175.0</td>\n",
       "      <td>Redcar and Cleveland</td>\n",
       "      <td>9716.993667</td>\n",
       "      <td>2271.833333</td>\n",
       "      <td>0.000612</td>\n",
       "      <td>0.040066</td>\n",
       "      <td>0.090753</td>\n",
       "      <td>0.203696</td>\n",
       "      <td>0.114204</td>\n",
       "      <td>0.004148</td>\n",
       "      <td>0.403251</td>\n",
       "      <td>0.002260</td>\n",
       "      <td>0.039679</td>\n",
       "      <td>35515.789474</td>\n",
       "      <td>POLYGON ((455525.931 528406.654, 455724.632 52...</td>\n",
       "    </tr>\n",
       "    <tr>\n",
       "      <th>3</th>\n",
       "      <td>E06000004</td>\n",
       "      <td>199966.0</td>\n",
       "      <td>Stockton-on-Tees</td>\n",
       "      <td>9882.238146</td>\n",
       "      <td>2398.133333</td>\n",
       "      <td>0.000395</td>\n",
       "      <td>0.038392</td>\n",
       "      <td>0.111064</td>\n",
       "      <td>0.177500</td>\n",
       "      <td>0.091506</td>\n",
       "      <td>0.003526</td>\n",
       "      <td>0.376619</td>\n",
       "      <td>0.001975</td>\n",
       "      <td>0.036736</td>\n",
       "      <td>38929.166667</td>\n",
       "      <td>POLYGON ((444157.002 527956.304, 444165.898 52...</td>\n",
       "    </tr>\n",
       "    <tr>\n",
       "      <th>4</th>\n",
       "      <td>E06000005</td>\n",
       "      <td>109469.0</td>\n",
       "      <td>Darlington</td>\n",
       "      <td>10613.598673</td>\n",
       "      <td>2298.300000</td>\n",
       "      <td>0.000713</td>\n",
       "      <td>0.058683</td>\n",
       "      <td>0.085239</td>\n",
       "      <td>0.174917</td>\n",
       "      <td>0.127315</td>\n",
       "      <td>0.004257</td>\n",
       "      <td>0.404863</td>\n",
       "      <td>0.002074</td>\n",
       "      <td>0.035681</td>\n",
       "      <td>39380.000000</td>\n",
       "      <td>POLYGON ((423496.602 524724.299, 423497.204 52...</td>\n",
       "    </tr>\n",
       "  </tbody>\n",
       "</table>\n",
       "</div>"
      ],
      "text/plain": [
       "  Local authority districts  population                  Name  \\\n",
       "0                 E06000001     93861.0            Hartlepool   \n",
       "1                 E06000002    148285.0         Middlesbrough   \n",
       "2                 E06000003    137175.0  Redcar and Cleveland   \n",
       "3                 E06000004    199966.0      Stockton-on-Tees   \n",
       "4                 E06000005    109469.0            Darlington   \n",
       "\n",
       "   gas_median_cons_kwh  elec_median_cons_kwh  dwelling_type: mobile  \\\n",
       "0          9603.810817           2252.975000               0.001225   \n",
       "1         11800.598665           2810.900000               0.000344   \n",
       "2          9716.993667           2271.833333               0.000612   \n",
       "3          9882.238146           2398.133333               0.000395   \n",
       "4         10613.598673           2298.300000               0.000713   \n",
       "\n",
       "   dwelling_type: flat  dwelling_type: detached house  \\\n",
       "0             0.050340                       0.086149   \n",
       "1             0.051044                       0.070061   \n",
       "2             0.040066                       0.090753   \n",
       "3             0.038392                       0.111064   \n",
       "4             0.058683                       0.085239   \n",
       "\n",
       "   dwelling_type: semi-detached  dwelling_type: terraced  no central heating  \\\n",
       "0                      0.154878                 0.143499            0.003644   \n",
       "1                      0.171865                 0.113080            0.005071   \n",
       "2                      0.203696                 0.114204            0.004148   \n",
       "3                      0.177500                 0.091506            0.003526   \n",
       "4                      0.174917                 0.127315            0.004257   \n",
       "\n",
       "   1 central heating  2+ central heating (renewable)  \\\n",
       "0           0.390855                        0.001918   \n",
       "1           0.361790                        0.001200   \n",
       "2           0.403251                        0.002260   \n",
       "3           0.376619                        0.001975   \n",
       "4           0.404863                        0.002074   \n",
       "\n",
       "   2+ central heating (non-renewable)  mean annual income  \\\n",
       "0                            0.039654        33741.666667   \n",
       "1                            0.038332        35531.578947   \n",
       "2                            0.039679        35515.789474   \n",
       "3                            0.036736        38929.166667   \n",
       "4                            0.035681        39380.000000   \n",
       "\n",
       "                                            geometry  \n",
       "0  POLYGON ((447213.900 537036.104, 447228.798 53...  \n",
       "1  POLYGON ((448489.897 522071.798, 448592.597 52...  \n",
       "2  POLYGON ((455525.931 528406.654, 455724.632 52...  \n",
       "3  POLYGON ((444157.002 527956.304, 444165.898 52...  \n",
       "4  POLYGON ((423496.602 524724.299, 423497.204 52...  "
      ]
     },
     "execution_count": 83,
     "metadata": {},
     "output_type": "execute_result"
    }
   ],
   "source": [
    "# load cleaned & normalised data\n",
    "gdf = gpd.read_file('normalised_energyconsumption_df.gpkg')\n",
    "\n",
    "# check\n",
    "gdf.head()"
   ]
  },
  {
   "cell_type": "code",
   "execution_count": 85,
   "id": "74491665-073c-420b-a876-d1fd7770ad2d",
   "metadata": {
    "tags": []
   },
   "outputs": [
    {
     "name": "stdout",
     "output_type": "stream",
     "text": [
      "<class 'geopandas.geodataframe.GeoDataFrame'>\n",
      "RangeIndex: 374 entries, 0 to 373\n",
      "Data columns (total 16 columns):\n",
      " #   Column                              Non-Null Count  Dtype   \n",
      "---  ------                              --------------  -----   \n",
      " 0   Local authority districts           374 non-null    object  \n",
      " 1   population                          357 non-null    float64 \n",
      " 2   Name                                357 non-null    object  \n",
      " 3   gas_median_cons_kwh                 345 non-null    float64 \n",
      " 4   elec_median_cons_kwh                345 non-null    float64 \n",
      " 5   dwelling_type: mobile               314 non-null    float64 \n",
      " 6   dwelling_type: flat                 314 non-null    float64 \n",
      " 7   dwelling_type: detached house       314 non-null    float64 \n",
      " 8   dwelling_type: semi-detached        314 non-null    float64 \n",
      " 9   dwelling_type: terraced             314 non-null    float64 \n",
      " 10  no central heating                  314 non-null    float64 \n",
      " 11  1 central heating                   314 non-null    float64 \n",
      " 12  2+ central heating (renewable)      314 non-null    float64 \n",
      " 13  2+ central heating (non-renewable)  314 non-null    float64 \n",
      " 14  mean annual income                  317 non-null    float64 \n",
      " 15  geometry                            374 non-null    geometry\n",
      "dtypes: float64(13), geometry(1), object(2)\n",
      "memory usage: 46.9+ KB\n"
     ]
    }
   ],
   "source": [
    "gdf.info()"
   ]
  },
  {
   "cell_type": "code",
   "execution_count": 89,
   "id": "b76026a1",
   "metadata": {
    "tags": []
   },
   "outputs": [
    {
     "data": {
      "image/png": "[encoded data removed]",
      "text/plain": [
       "<Figure size 640x480 with 1 Axes>"
      ]
     },
     "metadata": {},
     "output_type": "display_data"
    }
   ],
   "source": [
    "# plot data\n",
    "# aesthetics\n",
    "ax = gdf.plot(color='darkgreen', markersize=1)\n",
    "\n",
    "# background, remove axis labels & title\n",
    "ax.set_facecolor('black')\n",
    "ax.set_xticks([])\n",
    "ax.set_yticks([])\n",
    "ax.set_title('Geographic Distribution of our LAD ONS Data')\n",
    "\n",
    "# plot\n",
    "plt.show()"
   ]
  },
  {
   "cell_type": "markdown",
   "id": "d5d704a0-6059-4497-ac4f-4f2216fc5850",
   "metadata": {},
   "source": [
    "There is little data from Scotland as seen from this plot of 2041 data points. This means that this study will likely be unrepresentative of Scottish energy consumtion profiles"
   ]
  },
  {
   "cell_type": "markdown",
   "id": "1926f835-9f51-43db-8543-6eec4769a032",
   "metadata": {},
   "source": [
    "Before diving into the analysis, I need to remove outliers from the data set to ensure my scaling is correct for the EDA in the following section."
   ]
  },
  {
   "cell_type": "markdown",
   "id": "87768bdc",
   "metadata": {
    "tags": []
   },
   "source": [
    "### 1. Summary Statistics"
   ]
  },
  {
   "cell_type": "code",
   "execution_count": 93,
   "id": "dfefb65b-a8d4-4419-b025-3476e3ff26f1",
   "metadata": {
    "tags": []
   },
   "outputs": [
    {
     "data": {
      "text/html": [
       "<div>\n",
       "<style scoped>\n",
       "    .dataframe tbody tr th:only-of-type {\n",
       "        vertical-align: middle;\n",
       "    }\n",
       "\n",
       "    .dataframe tbody tr th {\n",
       "        vertical-align: top;\n",
       "    }\n",
       "\n",
       "    .dataframe thead th {\n",
       "        text-align: right;\n",
       "    }\n",
       "</style>\n",
       "<table border=\"1\" class=\"dataframe\">\n",
       "  <thead>\n",
       "    <tr style=\"text-align: right;\">\n",
       "      <th></th>\n",
       "      <th>population</th>\n",
       "      <th>gas_median_cons_kwh</th>\n",
       "      <th>elec_median_cons_kwh</th>\n",
       "      <th>dwelling_type: mobile</th>\n",
       "      <th>dwelling_type: flat</th>\n",
       "      <th>dwelling_type: detached house</th>\n",
       "      <th>dwelling_type: semi-detached</th>\n",
       "      <th>dwelling_type: terraced</th>\n",
       "      <th>no central heating</th>\n",
       "      <th>1 central heating</th>\n",
       "      <th>2+ central heating (renewable)</th>\n",
       "      <th>2+ central heating (non-renewable)</th>\n",
       "      <th>mean annual income</th>\n",
       "    </tr>\n",
       "  </thead>\n",
       "  <tbody>\n",
       "    <tr>\n",
       "      <th>count</th>\n",
       "      <td>3.570000e+02</td>\n",
       "      <td>345.000000</td>\n",
       "      <td>345.000000</td>\n",
       "      <td>314.000000</td>\n",
       "      <td>314.000000</td>\n",
       "      <td>314.000000</td>\n",
       "      <td>314.000000</td>\n",
       "      <td>314.000000</td>\n",
       "      <td>314.000000</td>\n",
       "      <td>314.000000</td>\n",
       "      <td>314.000000</td>\n",
       "      <td>314.000000</td>\n",
       "      <td>317.000000</td>\n",
       "    </tr>\n",
       "    <tr>\n",
       "      <th>mean</th>\n",
       "      <td>1.845739e+05</td>\n",
       "      <td>10000.940142</td>\n",
       "      <td>2599.394588</td>\n",
       "      <td>0.002067</td>\n",
       "      <td>0.082017</td>\n",
       "      <td>0.108347</td>\n",
       "      <td>0.130504</td>\n",
       "      <td>0.092400</td>\n",
       "      <td>0.005939</td>\n",
       "      <td>0.371254</td>\n",
       "      <td>0.002470</td>\n",
       "      <td>0.035671</td>\n",
       "      <td>46829.911803</td>\n",
       "    </tr>\n",
       "    <tr>\n",
       "      <th>std</th>\n",
       "      <td>1.239675e+05</td>\n",
       "      <td>1279.731673</td>\n",
       "      <td>234.158592</td>\n",
       "      <td>0.002098</td>\n",
       "      <td>0.065401</td>\n",
       "      <td>0.055624</td>\n",
       "      <td>0.037655</td>\n",
       "      <td>0.034206</td>\n",
       "      <td>0.004523</td>\n",
       "      <td>0.023074</td>\n",
       "      <td>0.001553</td>\n",
       "      <td>0.006680</td>\n",
       "      <td>9496.311602</td>\n",
       "    </tr>\n",
       "    <tr>\n",
       "      <th>min</th>\n",
       "      <td>2.281000e+03</td>\n",
       "      <td>6159.518029</td>\n",
       "      <td>2030.400000</td>\n",
       "      <td>0.000000</td>\n",
       "      <td>0.017910</td>\n",
       "      <td>0.000645</td>\n",
       "      <td>0.001383</td>\n",
       "      <td>0.007191</td>\n",
       "      <td>0.002067</td>\n",
       "      <td>0.259097</td>\n",
       "      <td>0.000777</td>\n",
       "      <td>0.023665</td>\n",
       "      <td>32926.086957</td>\n",
       "    </tr>\n",
       "    <tr>\n",
       "      <th>25%</th>\n",
       "      <td>1.069700e+05</td>\n",
       "      <td>9303.130236</td>\n",
       "      <td>2442.288889</td>\n",
       "      <td>0.000503</td>\n",
       "      <td>0.044090</td>\n",
       "      <td>0.061627</td>\n",
       "      <td>0.113079</td>\n",
       "      <td>0.070083</td>\n",
       "      <td>0.004013</td>\n",
       "      <td>0.359787</td>\n",
       "      <td>0.001545</td>\n",
       "      <td>0.031555</td>\n",
       "      <td>39575.438596</td>\n",
       "    </tr>\n",
       "    <tr>\n",
       "      <th>50%</th>\n",
       "      <td>1.456730e+05</td>\n",
       "      <td>9903.748734</td>\n",
       "      <td>2570.733333</td>\n",
       "      <td>0.001333</td>\n",
       "      <td>0.063788</td>\n",
       "      <td>0.108352</td>\n",
       "      <td>0.129826</td>\n",
       "      <td>0.087103</td>\n",
       "      <td>0.004991</td>\n",
       "      <td>0.372924</td>\n",
       "      <td>0.002032</td>\n",
       "      <td>0.034285</td>\n",
       "      <td>44745.454545</td>\n",
       "    </tr>\n",
       "    <tr>\n",
       "      <th>75%</th>\n",
       "      <td>2.269730e+05</td>\n",
       "      <td>10535.170836</td>\n",
       "      <td>2727.285714</td>\n",
       "      <td>0.002957</td>\n",
       "      <td>0.094242</td>\n",
       "      <td>0.154927</td>\n",
       "      <td>0.153265</td>\n",
       "      <td>0.107266</td>\n",
       "      <td>0.006824</td>\n",
       "      <td>0.388052</td>\n",
       "      <td>0.003090</td>\n",
       "      <td>0.038071</td>\n",
       "      <td>52148.484848</td>\n",
       "    </tr>\n",
       "    <tr>\n",
       "      <th>max</th>\n",
       "      <td>1.157603e+06</td>\n",
       "      <td>18285.958163</td>\n",
       "      <td>3940.500000</td>\n",
       "      <td>0.013217</td>\n",
       "      <td>0.443809</td>\n",
       "      <td>0.230133</td>\n",
       "      <td>0.208866</td>\n",
       "      <td>0.226177</td>\n",
       "      <td>0.072337</td>\n",
       "      <td>0.420104</td>\n",
       "      <td>0.017536</td>\n",
       "      <td>0.064007</td>\n",
       "      <td>101800.000000</td>\n",
       "    </tr>\n",
       "  </tbody>\n",
       "</table>\n",
       "</div>"
      ],
      "text/plain": [
       "         population  gas_median_cons_kwh  elec_median_cons_kwh  \\\n",
       "count  3.570000e+02           345.000000            345.000000   \n",
       "mean   1.845739e+05         10000.940142           2599.394588   \n",
       "std    1.239675e+05          1279.731673            234.158592   \n",
       "min    2.281000e+03          6159.518029           2030.400000   \n",
       "25%    1.069700e+05          9303.130236           2442.288889   \n",
       "50%    1.456730e+05          9903.748734           2570.733333   \n",
       "75%    2.269730e+05         10535.170836           2727.285714   \n",
       "max    1.157603e+06         18285.958163           3940.500000   \n",
       "\n",
       "       dwelling_type: mobile  dwelling_type: flat  \\\n",
       "count             314.000000           314.000000   \n",
       "mean                0.002067             0.082017   \n",
       "std                 0.002098             0.065401   \n",
       "min                 0.000000             0.017910   \n",
       "25%                 0.000503             0.044090   \n",
       "50%                 0.001333             0.063788   \n",
       "75%                 0.002957             0.094242   \n",
       "max                 0.013217             0.443809   \n",
       "\n",
       "       dwelling_type: detached house  dwelling_type: semi-detached  \\\n",
       "count                     314.000000                    314.000000   \n",
       "mean                        0.108347                      0.130504   \n",
       "std                         0.055624                      0.037655   \n",
       "min                         0.000645                      0.001383   \n",
       "25%                         0.061627                      0.113079   \n",
       "50%                         0.108352                      0.129826   \n",
       "75%                         0.154927                      0.153265   \n",
       "max                         0.230133                      0.208866   \n",
       "\n",
       "       dwelling_type: terraced  no central heating  1 central heating  \\\n",
       "count               314.000000          314.000000         314.000000   \n",
       "mean                  0.092400            0.005939           0.371254   \n",
       "std                   0.034206            0.004523           0.023074   \n",
       "min                   0.007191            0.002067           0.259097   \n",
       "25%                   0.070083            0.004013           0.359787   \n",
       "50%                   0.087103            0.004991           0.372924   \n",
       "75%                   0.107266            0.006824           0.388052   \n",
       "max                   0.226177            0.072337           0.420104   \n",
       "\n",
       "       2+ central heating (renewable)  2+ central heating (non-renewable)  \\\n",
       "count                      314.000000                          314.000000   \n",
       "mean                         0.002470                            0.035671   \n",
       "std                          0.001553                            0.006680   \n",
       "min                          0.000777                            0.023665   \n",
       "25%                          0.001545                            0.031555   \n",
       "50%                          0.002032                            0.034285   \n",
       "75%                          0.003090                            0.038071   \n",
       "max                          0.017536                            0.064007   \n",
       "\n",
       "       mean annual income  \n",
       "count          317.000000  \n",
       "mean         46829.911803  \n",
       "std           9496.311602  \n",
       "min          32926.086957  \n",
       "25%          39575.438596  \n",
       "50%          44745.454545  \n",
       "75%          52148.484848  \n",
       "max         101800.000000  "
      ]
     },
     "execution_count": 93,
     "metadata": {},
     "output_type": "execute_result"
    }
   ],
   "source": [
    "# descriptive statistics\n",
    "gdf.describe()"
   ]
  },
  {
   "cell_type": "markdown",
   "id": "cb88416b-f9f1-4df1-a075-70de233274d6",
   "metadata": {},
   "source": [
    "### 2. *Gas* Exploratory Data Analysis (EDA)"
   ]
  },
  {
   "cell_type": "markdown",
   "id": "a5990ed1-5113-495a-b610-9eefc2c6ae4a",
   "metadata": {},
   "source": [
    "**In this section we conduct several crucial steps for our analysis.** \n",
    "\n",
    "**This includes a:**\n",
    "\n",
    "- Exploratory Data Analysis (EDA)\n",
    "- Normalisation of our data in order to standardise our results\n",
    "- Detect outliars in out data.\n",
    "- Split our data into training and testing data"
   ]
  },
  {
   "cell_type": "markdown",
   "id": "1f481542-9c1f-4d12-8913-f0fce9f560b9",
   "metadata": {},
   "source": [
    "#### 2.1 Univariate Analysis"
   ]
  },
  {
   "cell_type": "code",
   "execution_count": 109,
   "id": "47386e3d-731b-4746-938b-85a8a6929b81",
   "metadata": {
    "tags": []
   },
   "outputs": [
    {
     "data": {
      "image/png": "[encoded data removed]",
      "text/plain": [
       "<Figure size 640x480 with 1 Axes>"
      ]
     },
     "metadata": {},
     "output_type": "display_data"
    }
   ],
   "source": [
    "# histogram for 'medina_cons_kwh'\n",
    "gdf['elec_median_cons_kwh'].hist(bins=30, range=(300, 4000))\n",
    "plt.title('Histogram of Mean Consumption kWh')\n",
    "plt.xlabel('Mean Consumption kWh')\n",
    "plt.ylabel('Frequency')\n",
    "plt.show()"
   ]
  },
  {
   "cell_type": "code",
   "execution_count": 111,
   "id": "a34a37bf-7047-491d-830a-766a5afdd195",
   "metadata": {
    "tags": []
   },
   "outputs": [
    {
     "data": {
      "image/png": "[encoded data removed]",
      "text/plain": [
       "<Figure size 640x480 with 1 Axes>"
      ]
     },
     "metadata": {},
     "output_type": "display_data"
    }
   ],
   "source": [
    "# histogram for 'median_cons_kwh'\n",
    "gdf['gas_median_cons_kwh'].hist(bins=30, range=(300, 20000))\n",
    "plt.title('Histogram of Median Consumption kWh')\n",
    "plt.xlabel('Median Consumption kWh')\n",
    "plt.ylabel('Frequency')\n",
    "plt.show()"
   ]
  },
  {
   "cell_type": "markdown",
   "id": "a74bd532-73ee-4522-a657-a49b00f77d46",
   "metadata": {},
   "source": [
    "#### 2.2 Multivariate Analysis"
   ]
  },
  {
   "cell_type": "code",
   "execution_count": null,
   "id": "fc67f3c2-3680-4d19-a0eb-40312049ce1c",
   "metadata": {
    "tags": []
   },
   "outputs": [],
   "source": [
    "# correlation matrix\n",
    "correlation_matrix = gdf[['ngas_total_cons_kwh', 'ngas_mean_cons_kwh', 'ngas_median_cons_kwh', 'nelec_total_cons_kwh', 'nelec_mean_cons_kwh', 'nelec_median_cons_kwh']].corr()\n",
    "\n",
    "# heatmap of the correlation matrix\n",
    "sns.heatmap(correlation_matrix, annot=True)\n",
    "plt.title('Heatmap of Correlation Matrix')\n",
    "plt.show()"
   ]
  },
  {
   "cell_type": "code",
   "execution_count": null,
   "id": "4d17ef35-4d5f-4dc8-9223-0dfa20e65f76",
   "metadata": {
    "tags": []
   },
   "outputs": [],
   "source": [
    "if not isinstance(gdf, gpd.GeoDataFrame):\n",
    "    gdf = gpd.GeoDataFrame(gdf)\n",
    "\n",
    "# plot\n",
    "fig, ax = plt.subplots(1, 1, figsize=(10, 10))\n",
    "gdf.plot(column='ngas_mean_cons_kwh', ax=ax, legend=True, cmap='viridis')\n",
    "plt.title('Geospatial Distribution of Mean Gas Consumption')\n",
    "plt.xlabel('Longitude')\n",
    "plt.ylabel('Latitude')\n",
    "plt.show()"
   ]
  },
  {
   "cell_type": "code",
   "execution_count": null,
   "id": "3d1760c7-d76b-4f31-987d-9227a1162ee2",
   "metadata": {
    "tags": []
   },
   "outputs": [],
   "source": [
    "if not isinstance(gdf, gpd.GeoDataFrame):\n",
    "    gdf = gpd.GeoDataFrame(gdf)\n",
    "\n",
    "# plot\n",
    "fig, ax = plt.subplots(1, 1, figsize=(10, 10))\n",
    "gdf.plot(column='nelec_mean_cons_kwh', ax=ax, legend=True, cmap='viridis')\n",
    "plt.title('Geospatial Distribution of Mean Electricity Consumption')\n",
    "plt.xlabel('Longitude')\n",
    "plt.ylabel('Latitude')\n",
    "plt.show()"
   ]
  },
  {
   "cell_type": "markdown",
   "id": "8fec2aeb-f47e-4f3f-92e1-99d80e62e9f5",
   "metadata": {},
   "source": [
    "#### 2.3 Anomaly Detection"
   ]
  },
  {
   "cell_type": "code",
   "execution_count": null,
   "id": "4b8d2d57-84b9-40ec-8338-f1ceeb22fab4",
   "metadata": {
    "tags": []
   },
   "outputs": [],
   "source": [
    "# convert columns to numeric type, coercing errors to NaN\n",
    "gdf['nelec_total_cons_kwh'] = pd.to_numeric(gdf['nelec_total_cons_kwh'], errors='coerce')\n",
    "gdf['nelec_mean_cons_kwh'] = pd.to_numeric(gdf['nelec_mean_cons_kwh'], errors='coerce')\n",
    "gdf['nelec_median_cons_kwh'] = pd.to_numeric(gdf['nelec_median_cons_kwh'], errors='coerce')\n",
    "\n",
    "# calculate quartiles after type conversion\n",
    "Q1 = gdf[['nelec_total_cons_kwh', 'nelec_mean_cons_kwh', 'nelec_median_cons_kwh']].quantile(0.25)\n",
    "Q3 = gdf[['nelec_total_cons_kwh', 'nelec_mean_cons_kwh', 'nelec_median_cons_kwh']].quantile(0.75)\n",
    "IQR = Q3 - Q1\n",
    "\n",
    "# IQR to define outliars\n",
    "outliers = (gdf[['nelec_total_cons_kwh', 'nelec_mean_cons_kwh', 'nelec_median_cons_kwh']] < (Q1 - 1.5 * IQR)) | (gdf[['nelec_total_cons_kwh', 'nelec_mean_cons_kwh', 'nelec_median_cons_kwh']] > (Q3 + 1.5 * IQR))\n",
    "\n",
    "# print outliers\n",
    "outliers.sum()"
   ]
  },
  {
   "cell_type": "markdown",
   "id": "a9b1f697-1d66-4fff-8404-c604357a0853",
   "metadata": {},
   "source": [
    "#### 2.4 Normalise tot_con_kwh"
   ]
  },
  {
   "cell_type": "code",
   "execution_count": null,
   "id": "27ce254e-eb0a-4a7f-b0ad-4776e791c6b1",
   "metadata": {
    "tags": []
   },
   "outputs": [],
   "source": [
    "# creating new feature: log transformation of 'total_cons_kwh' to normalise distribution\n",
    "gdf['log_total_cons_kwh'] = np.log(gdf['ngas_total_cons_kwh'] + 1)\n",
    "gdf['log_total_cons_kwh'].hist(bins=30)\n",
    "plt.title('Histogram of Log-transformed Total Consumption kWh')\n",
    "plt.xlabel('Log-transformed Total Consumption kWh')\n",
    "plt.ylabel('Frequency')\n",
    "plt.show()"
   ]
  },
  {
   "cell_type": "code",
   "execution_count": null,
   "id": "d0a71470-fa62-4637-8acb-cb2c8549be93",
   "metadata": {
    "tags": []
   },
   "outputs": [],
   "source": [
    "# creating new feature: log transformation of 'total_cons_kwh' to normalise distribution\n",
    "gdf['log_total_cons_kwh'] = np.log(gdf['nelec_total_cons_kwh'] + 1)\n",
    "gdf['log_total_cons_kwh'].hist(bins=30)\n",
    "plt.title('Histogram of Log-transformed Total Consumption kWh')\n",
    "plt.xlabel('Log-transformed Total Consumption kWh')\n",
    "plt.ylabel('Frequency')\n",
    "plt.show()"
   ]
  },
  {
   "cell_type": "markdown",
   "id": "0765cf97-eaf8-490f-b4fe-2ae791b22d73",
   "metadata": {},
   "source": [
    "#### 2.5 Split gdf in training and testing data"
   ]
  },
  {
   "cell_type": "code",
   "execution_count": null,
   "id": "2a47af15-6837-4743-a439-e2a711a0a57e",
   "metadata": {
    "jupyter": {
     "source_hidden": true
    },
    "tags": []
   },
   "outputs": [],
   "source": [
    "from sklearn.model_selection import train_test_split\n",
    "\n",
    "# split into training & test sets\n",
    "train_set, test_set = train_test_split(gdf, test_size=0.2, random_state=42)\n",
    "print(\"Training set size:\", train_set.shape)\n",
    "print(\"Test set size:\", test_set.shape)"
   ]
  },
  {
   "cell_type": "markdown",
   "id": "00f3f576-fd6d-4863-93ae-cb4b2533a36c",
   "metadata": {},
   "source": [
    "### 3. K-Means Clustering"
   ]
  },
  {
   "cell_type": "code",
   "execution_count": null,
   "id": "3350f419-32c4-4743-9134-ed62e28416c8",
   "metadata": {},
   "outputs": [],
   "source": []
  },
  {
   "cell_type": "code",
   "execution_count": null,
   "id": "d82b6401-1ab8-4b13-9b43-3234817a5be5",
   "metadata": {},
   "outputs": [],
   "source": []
  },
  {
   "cell_type": "code",
   "execution_count": null,
   "id": "3caeb9c4-b473-4652-a9c4-3f5d750d15ce",
   "metadata": {},
   "outputs": [],
   "source": []
  },
  {
   "cell_type": "code",
   "execution_count": null,
   "id": "a876456b-7036-4b82-8a48-db8fe12f1679",
   "metadata": {},
   "outputs": [],
   "source": []
  },
  {
   "cell_type": "code",
   "execution_count": null,
   "id": "6c12c35e-6f15-4275-a1f8-0a9ed311cf86",
   "metadata": {},
   "outputs": [],
   "source": []
  },
  {
   "cell_type": "markdown",
   "id": "4b768595-df59-4564-ad15-39186f39ac46",
   "metadata": {},
   "source": [
    "### 4. Hierarchal Clustering"
   ]
  }
 ],
 "metadata": {
  "kernelspec": {
   "display_name": "Python 3 (ipykernel)",
   "language": "python",
   "name": "python3"
  },
  "language_info": {
   "codemirror_mode": {
    "name": "ipython",
    "version": 3
   },
   "file_extension": ".py",
   "mimetype": "text/x-python",
   "name": "python",
   "nbconvert_exporter": "python",
   "pygments_lexer": "ipython3",
   "version": "3.11.5"
  }
 },
 "nbformat": 4,
 "nbformat_minor": 5
}
