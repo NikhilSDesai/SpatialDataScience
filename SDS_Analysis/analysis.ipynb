{
 "cells": [
  {
   "cell_type": "markdown",
   "id": "bd0ae5c1-f687-474b-88ef-09d829ac8e27",
   "metadata": {},
   "source": [
    "## The following analysis is for the CASA0006 final assignment\n",
    "\n",
    "In this code we explore the following question: *Can unsupervised clustering reveal distinct patterns of household energy consumption across different regions of the UK, and what factors contribute to these patterns?*"
   ]
  },
  {
   "cell_type": "code",
   "execution_count": null,
   "id": "fb668526-1ffa-4db8-bd53-73f001924f9f",
   "metadata": {},
   "outputs": [],
   "source": []
  },
  {
   "cell_type": "code",
   "execution_count": null,
   "id": "2766b4e3-4937-405d-aa8e-da4bbd9ff76e",
   "metadata": {},
   "outputs": [],
   "source": []
  }
 ],
 "metadata": {
  "kernelspec": {
   "display_name": "Python 3 (ipykernel)",
   "language": "python",
   "name": "python3"
  },
  "language_info": {
   "codemirror_mode": {
    "name": "ipython",
    "version": 3
   },
   "file_extension": ".py",
   "mimetype": "text/x-python",
   "name": "python",
   "nbconvert_exporter": "python",
   "pygments_lexer": "ipython3",
   "version": "3.11.5"
  }
 },
 "nbformat": 4,
 "nbformat_minor": 5
}
